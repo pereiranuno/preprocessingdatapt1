{
 "cells": [
  {
   "cell_type": "markdown",
   "metadata": {},
   "source": [
    "# Project"
   ]
  },
  {
   "cell_type": "markdown",
   "metadata": {},
   "source": [
    "---"
   ]
  },
  {
   "cell_type": "markdown",
   "metadata": {},
   "source": [
    "## Scope & Ground Rules\n",
    "\n",
    "\n",
    "### Part 1 - 50% | Scope\n",
    "\n",
    "**it's composed for `5` small assignments with guidelines. The assignment scores **evenly distributed across all questions** (each question accounts for 10% of the final score). **\n",
    "\n",
    "\n",
    "**Any question please contact to me via Slack or Email.**\n",
    "\n",
    "\n",
    "---\n",
    "\n",
    "**IMPORTANT NOTES to have in mind** \n",
    "\n",
    "**a) Code Readability is taken into account for the evaluation, so please make it simple, readable and explain your operations when necessary.**\n",
    "\n",
    "**b) Make sure that the evaluater can re-run the notebook from the begining, i.e. before you delivery the assignment please go to the bar on top of your notebook -> `Kernel` -> `Restart & Run all`. Validate that all outputs are as you expect.**\n",
    "\n",
    "----\n",
    "\n",
    "\n"
   ]
  },
  {
   "cell_type": "markdown",
   "metadata": {},
   "source": [
    "# Part 1"
   ]
  },
  {
   "cell_type": "markdown",
   "metadata": {},
   "source": [
    "## 1- Load Data"
   ]
  },
  {
   "cell_type": "markdown",
   "metadata": {},
   "source": [
    "**1.1- Load **house_prices_final_project.csv** to a Pandas DataFrame. You can see in `data_description.txt` file the description of each column**"
   ]
  },
  {
   "cell_type": "markdown",
   "metadata": {},
   "source": [
    "---"
   ]
  },
  {
   "cell_type": "markdown",
   "metadata": {},
   "source": [
    "### Importação de bibliotecas\n",
    "\n",
    "O seguinte script utiliza várias bibliotecas para preparação e análise de dados. Aqui está uma breve explicação de cada importação:\n",
    "\n",
    "- `pandas` (`pd`): Utilizado para manipulação e análise de dados através da utilização de DataFrames.\n",
    "- `KBinsDiscretizer` (de `sklearn.preprocessing`): Realiza discretização de dados contínuos em intervalos.\n",
    "- `SimpleImputer` (de `sklearn.impute`): Preenche valores ausentes com estratégias como média, mediana ou valor constante.\n",
    "- `OneHotEncoder` (de `sklearn.preprocessing`): Codifica variáveis categóricas em representações numéricas binárias (one-hot encoding).\n",
    "- `MinMaxScaler` (de `sklearn.preprocessing`): Escala os valores para um intervalo específico (por exemplo, entre 0 e 1).\n",
    "- `split_dataset` (de `pgds_mpp_utils`):  função personalizada para dividir um dataset em treino e teste.\n",
    "- `score_approach` (de `pgds_mpp_utils`): função personalizada para treinar e avaliar modelo  e retornar a precisão .\n"
   ]
  },
  {
   "cell_type": "code",
   "execution_count": 3436,
   "metadata": {},
   "outputs": [],
   "source": [
    "import pandas as pd \n",
    "from sklearn.preprocessing import KBinsDiscretizer\n",
    "from sklearn.impute import SimpleImputer\n",
    "from sklearn.preprocessing import OneHotEncoder\n",
    "from sklearn.preprocessing import MinMaxScaler\n",
    "from category_encoders import OneHotEncoder as OHE\n",
    "from pgds_mpp_utils import split_dataset, score_approach\n",
    "import seaborn as sns\n",
    "import matplotlib.pyplot as plt\n",
    "import numpy as np\n",
    "import datetime"
   ]
  },
  {
   "cell_type": "markdown",
   "metadata": {},
   "source": [
    "Código abaixo carrega os dados de um ficheiro CSV para um DataFrame do pandas:"
   ]
  },
  {
   "cell_type": "code",
   "execution_count": 3437,
   "metadata": {},
   "outputs": [],
   "source": [
    "\n",
    "df = pd.read_csv('data/house_prices_final_project.csv')"
   ]
  },
  {
   "cell_type": "markdown",
   "metadata": {},
   "source": [
    "Apresentação dos primeiros 5 registos para confirmação de correta importação do passo anterior."
   ]
  },
  {
   "cell_type": "code",
   "execution_count": 3438,
   "metadata": {},
   "outputs": [
    {
     "data": {
      "text/html": [
       "<div>\n",
       "<style scoped>\n",
       "    .dataframe tbody tr th:only-of-type {\n",
       "        vertical-align: middle;\n",
       "    }\n",
       "\n",
       "    .dataframe tbody tr th {\n",
       "        vertical-align: top;\n",
       "    }\n",
       "\n",
       "    .dataframe thead th {\n",
       "        text-align: right;\n",
       "    }\n",
       "</style>\n",
       "<table border=\"1\" class=\"dataframe\">\n",
       "  <thead>\n",
       "    <tr style=\"text-align: right;\">\n",
       "      <th></th>\n",
       "      <th>Id</th>\n",
       "      <th>MSSubClass</th>\n",
       "      <th>MSZoning</th>\n",
       "      <th>LotFrontage</th>\n",
       "      <th>LotArea</th>\n",
       "      <th>Street</th>\n",
       "      <th>Alley</th>\n",
       "      <th>LotShape</th>\n",
       "      <th>LandContour</th>\n",
       "      <th>Utilities</th>\n",
       "      <th>...</th>\n",
       "      <th>PoolArea</th>\n",
       "      <th>PoolQC</th>\n",
       "      <th>Fence</th>\n",
       "      <th>MiscFeature</th>\n",
       "      <th>MiscVal</th>\n",
       "      <th>MoSold</th>\n",
       "      <th>YrSold</th>\n",
       "      <th>SaleType</th>\n",
       "      <th>SaleCondition</th>\n",
       "      <th>SalePrice</th>\n",
       "    </tr>\n",
       "  </thead>\n",
       "  <tbody>\n",
       "    <tr>\n",
       "      <th>0</th>\n",
       "      <td>1</td>\n",
       "      <td>60</td>\n",
       "      <td>RL</td>\n",
       "      <td>65.0</td>\n",
       "      <td>8450</td>\n",
       "      <td>Pave</td>\n",
       "      <td>NaN</td>\n",
       "      <td>Reg</td>\n",
       "      <td>Lvl</td>\n",
       "      <td>AllPub</td>\n",
       "      <td>...</td>\n",
       "      <td>0</td>\n",
       "      <td>NaN</td>\n",
       "      <td>NaN</td>\n",
       "      <td>NaN</td>\n",
       "      <td>0</td>\n",
       "      <td>2</td>\n",
       "      <td>2008</td>\n",
       "      <td>WD</td>\n",
       "      <td>Normal</td>\n",
       "      <td>208500</td>\n",
       "    </tr>\n",
       "    <tr>\n",
       "      <th>1</th>\n",
       "      <td>2</td>\n",
       "      <td>20</td>\n",
       "      <td>RL</td>\n",
       "      <td>80.0</td>\n",
       "      <td>9600</td>\n",
       "      <td>Pave</td>\n",
       "      <td>NaN</td>\n",
       "      <td>Reg</td>\n",
       "      <td>Lvl</td>\n",
       "      <td>AllPub</td>\n",
       "      <td>...</td>\n",
       "      <td>0</td>\n",
       "      <td>NaN</td>\n",
       "      <td>NaN</td>\n",
       "      <td>NaN</td>\n",
       "      <td>0</td>\n",
       "      <td>5</td>\n",
       "      <td>2007</td>\n",
       "      <td>WD</td>\n",
       "      <td>Normal</td>\n",
       "      <td>181500</td>\n",
       "    </tr>\n",
       "    <tr>\n",
       "      <th>2</th>\n",
       "      <td>3</td>\n",
       "      <td>60</td>\n",
       "      <td>RL</td>\n",
       "      <td>68.0</td>\n",
       "      <td>11250</td>\n",
       "      <td>Pave</td>\n",
       "      <td>NaN</td>\n",
       "      <td>IR1</td>\n",
       "      <td>Lvl</td>\n",
       "      <td>AllPub</td>\n",
       "      <td>...</td>\n",
       "      <td>0</td>\n",
       "      <td>NaN</td>\n",
       "      <td>NaN</td>\n",
       "      <td>NaN</td>\n",
       "      <td>0</td>\n",
       "      <td>9</td>\n",
       "      <td>2008</td>\n",
       "      <td>WD</td>\n",
       "      <td>Normal</td>\n",
       "      <td>223500</td>\n",
       "    </tr>\n",
       "    <tr>\n",
       "      <th>3</th>\n",
       "      <td>4</td>\n",
       "      <td>70</td>\n",
       "      <td>RL</td>\n",
       "      <td>60.0</td>\n",
       "      <td>9550</td>\n",
       "      <td>Pave</td>\n",
       "      <td>NaN</td>\n",
       "      <td>IR1</td>\n",
       "      <td>Lvl</td>\n",
       "      <td>AllPub</td>\n",
       "      <td>...</td>\n",
       "      <td>0</td>\n",
       "      <td>NaN</td>\n",
       "      <td>NaN</td>\n",
       "      <td>NaN</td>\n",
       "      <td>0</td>\n",
       "      <td>2</td>\n",
       "      <td>2006</td>\n",
       "      <td>WD</td>\n",
       "      <td>Abnorml</td>\n",
       "      <td>140000</td>\n",
       "    </tr>\n",
       "    <tr>\n",
       "      <th>4</th>\n",
       "      <td>5</td>\n",
       "      <td>60</td>\n",
       "      <td>RL</td>\n",
       "      <td>84.0</td>\n",
       "      <td>14260</td>\n",
       "      <td>Pave</td>\n",
       "      <td>NaN</td>\n",
       "      <td>IR1</td>\n",
       "      <td>Lvl</td>\n",
       "      <td>AllPub</td>\n",
       "      <td>...</td>\n",
       "      <td>0</td>\n",
       "      <td>NaN</td>\n",
       "      <td>NaN</td>\n",
       "      <td>NaN</td>\n",
       "      <td>0</td>\n",
       "      <td>12</td>\n",
       "      <td>2008</td>\n",
       "      <td>WD</td>\n",
       "      <td>Normal</td>\n",
       "      <td>250000</td>\n",
       "    </tr>\n",
       "  </tbody>\n",
       "</table>\n",
       "<p>5 rows × 81 columns</p>\n",
       "</div>"
      ],
      "text/plain": [
       "   Id  MSSubClass MSZoning  LotFrontage  LotArea Street Alley LotShape  \\\n",
       "0   1          60       RL         65.0     8450   Pave   NaN      Reg   \n",
       "1   2          20       RL         80.0     9600   Pave   NaN      Reg   \n",
       "2   3          60       RL         68.0    11250   Pave   NaN      IR1   \n",
       "3   4          70       RL         60.0     9550   Pave   NaN      IR1   \n",
       "4   5          60       RL         84.0    14260   Pave   NaN      IR1   \n",
       "\n",
       "  LandContour Utilities  ... PoolArea PoolQC Fence MiscFeature MiscVal MoSold  \\\n",
       "0         Lvl    AllPub  ...        0    NaN   NaN         NaN       0      2   \n",
       "1         Lvl    AllPub  ...        0    NaN   NaN         NaN       0      5   \n",
       "2         Lvl    AllPub  ...        0    NaN   NaN         NaN       0      9   \n",
       "3         Lvl    AllPub  ...        0    NaN   NaN         NaN       0      2   \n",
       "4         Lvl    AllPub  ...        0    NaN   NaN         NaN       0     12   \n",
       "\n",
       "  YrSold  SaleType  SaleCondition  SalePrice  \n",
       "0   2008        WD         Normal     208500  \n",
       "1   2007        WD         Normal     181500  \n",
       "2   2008        WD         Normal     223500  \n",
       "3   2006        WD        Abnorml     140000  \n",
       "4   2008        WD         Normal     250000  \n",
       "\n",
       "[5 rows x 81 columns]"
      ]
     },
     "execution_count": 3438,
     "metadata": {},
     "output_type": "execute_result"
    }
   ],
   "source": [
    "df.head(5)  "
   ]
  },
  {
   "cell_type": "markdown",
   "metadata": {},
   "source": [
    "**1.2- Print dataset total number of `observations` and `variables`**"
   ]
  },
  {
   "cell_type": "markdown",
   "metadata": {},
   "source": [
    "---"
   ]
  },
  {
   "cell_type": "markdown",
   "metadata": {},
   "source": [
    "O bloco de código a seguir é utilizado para obter as dimensões do DataFrame e apresentar o número de linhas (observações) e colunas (variáveis):\n"
   ]
  },
  {
   "cell_type": "code",
   "execution_count": 3439,
   "metadata": {},
   "outputs": [
    {
     "name": "stdout",
     "output_type": "stream",
     "text": [
      "Número de observações: 1460 | Número de variáveis: 81\n"
     ]
    }
   ],
   "source": [
    "observations, variables = df.shape\n",
    "\n",
    "print(f\"Número de observações: {observations} | Número de variáveis: {variables}\")"
   ]
  },
  {
   "cell_type": "markdown",
   "metadata": {},
   "source": [
    "---"
   ]
  },
  {
   "cell_type": "markdown",
   "metadata": {},
   "source": [
    "### Please find below the subset of columns we are going to consider for the rest of the assignment"
   ]
  },
  {
   "cell_type": "code",
   "execution_count": 3440,
   "metadata": {},
   "outputs": [],
   "source": [
    "columns_list = ['FullBath',\n",
    "                'TotRmsAbvGrd',\n",
    "                'Fireplaces',\n",
    "                'GarageYrBlt',\n",
    "                'GarageCars',\n",
    "                'GarageArea',\n",
    "                'LotFrontage',\n",
    "                'WoodDeckSF',\n",
    "                'OpenPorchSF',\n",
    "                'SaleType',\n",
    "                'SaleCondition',\n",
    "                'SalePrice']"
   ]
  },
  {
   "cell_type": "markdown",
   "metadata": {},
   "source": [
    "**1.3- Create a new dataframe which is a subset of the origin dataframe based on the columns listed above.**"
   ]
  },
  {
   "cell_type": "markdown",
   "metadata": {},
   "source": [
    "---"
   ]
  },
  {
   "cell_type": "markdown",
   "metadata": {},
   "source": [
    "O bloco de código a seguir cria um subconjunto do DataFrame com colunas selecionadas e exibe as primeiras linhas para confirmar o resultado:"
   ]
  },
  {
   "cell_type": "code",
   "execution_count": 3441,
   "metadata": {},
   "outputs": [
    {
     "data": {
      "text/html": [
       "<div>\n",
       "<style scoped>\n",
       "    .dataframe tbody tr th:only-of-type {\n",
       "        vertical-align: middle;\n",
       "    }\n",
       "\n",
       "    .dataframe tbody tr th {\n",
       "        vertical-align: top;\n",
       "    }\n",
       "\n",
       "    .dataframe thead th {\n",
       "        text-align: right;\n",
       "    }\n",
       "</style>\n",
       "<table border=\"1\" class=\"dataframe\">\n",
       "  <thead>\n",
       "    <tr style=\"text-align: right;\">\n",
       "      <th></th>\n",
       "      <th>FullBath</th>\n",
       "      <th>TotRmsAbvGrd</th>\n",
       "      <th>Fireplaces</th>\n",
       "      <th>GarageYrBlt</th>\n",
       "      <th>GarageCars</th>\n",
       "      <th>GarageArea</th>\n",
       "      <th>LotFrontage</th>\n",
       "      <th>WoodDeckSF</th>\n",
       "      <th>OpenPorchSF</th>\n",
       "      <th>SaleType</th>\n",
       "      <th>SaleCondition</th>\n",
       "      <th>SalePrice</th>\n",
       "    </tr>\n",
       "  </thead>\n",
       "  <tbody>\n",
       "    <tr>\n",
       "      <th>0</th>\n",
       "      <td>2</td>\n",
       "      <td>8</td>\n",
       "      <td>0</td>\n",
       "      <td>2003.0</td>\n",
       "      <td>2</td>\n",
       "      <td>548</td>\n",
       "      <td>65.0</td>\n",
       "      <td>0</td>\n",
       "      <td>61</td>\n",
       "      <td>WD</td>\n",
       "      <td>Normal</td>\n",
       "      <td>208500</td>\n",
       "    </tr>\n",
       "    <tr>\n",
       "      <th>1</th>\n",
       "      <td>2</td>\n",
       "      <td>6</td>\n",
       "      <td>1</td>\n",
       "      <td>1976.0</td>\n",
       "      <td>2</td>\n",
       "      <td>460</td>\n",
       "      <td>80.0</td>\n",
       "      <td>298</td>\n",
       "      <td>0</td>\n",
       "      <td>WD</td>\n",
       "      <td>Normal</td>\n",
       "      <td>181500</td>\n",
       "    </tr>\n",
       "    <tr>\n",
       "      <th>2</th>\n",
       "      <td>2</td>\n",
       "      <td>6</td>\n",
       "      <td>1</td>\n",
       "      <td>2001.0</td>\n",
       "      <td>2</td>\n",
       "      <td>608</td>\n",
       "      <td>68.0</td>\n",
       "      <td>0</td>\n",
       "      <td>42</td>\n",
       "      <td>WD</td>\n",
       "      <td>Normal</td>\n",
       "      <td>223500</td>\n",
       "    </tr>\n",
       "    <tr>\n",
       "      <th>3</th>\n",
       "      <td>1</td>\n",
       "      <td>7</td>\n",
       "      <td>1</td>\n",
       "      <td>1998.0</td>\n",
       "      <td>3</td>\n",
       "      <td>642</td>\n",
       "      <td>60.0</td>\n",
       "      <td>0</td>\n",
       "      <td>35</td>\n",
       "      <td>WD</td>\n",
       "      <td>Abnorml</td>\n",
       "      <td>140000</td>\n",
       "    </tr>\n",
       "    <tr>\n",
       "      <th>4</th>\n",
       "      <td>2</td>\n",
       "      <td>9</td>\n",
       "      <td>1</td>\n",
       "      <td>2000.0</td>\n",
       "      <td>3</td>\n",
       "      <td>836</td>\n",
       "      <td>84.0</td>\n",
       "      <td>192</td>\n",
       "      <td>84</td>\n",
       "      <td>WD</td>\n",
       "      <td>Normal</td>\n",
       "      <td>250000</td>\n",
       "    </tr>\n",
       "  </tbody>\n",
       "</table>\n",
       "</div>"
      ],
      "text/plain": [
       "   FullBath  TotRmsAbvGrd  Fireplaces  GarageYrBlt  GarageCars  GarageArea  \\\n",
       "0         2             8           0       2003.0           2         548   \n",
       "1         2             6           1       1976.0           2         460   \n",
       "2         2             6           1       2001.0           2         608   \n",
       "3         1             7           1       1998.0           3         642   \n",
       "4         2             9           1       2000.0           3         836   \n",
       "\n",
       "   LotFrontage  WoodDeckSF  OpenPorchSF SaleType SaleCondition  SalePrice  \n",
       "0         65.0           0           61       WD        Normal     208500  \n",
       "1         80.0         298            0       WD        Normal     181500  \n",
       "2         68.0           0           42       WD        Normal     223500  \n",
       "3         60.0           0           35       WD       Abnorml     140000  \n",
       "4         84.0         192           84       WD        Normal     250000  "
      ]
     },
     "execution_count": 3441,
     "metadata": {},
     "output_type": "execute_result"
    }
   ],
   "source": [
    "# Criar DataFrame com  subconjunto de colunas selecionadas\n",
    "df_subset = df[columns_list]\n",
    "\n",
    "# Exibir as primeiras linhas para confirmação de passo anterior\n",
    "df_subset.head()"
   ]
  },
  {
   "cell_type": "code",
   "execution_count": 3442,
   "metadata": {},
   "outputs": [
    {
     "name": "stdout",
     "output_type": "stream",
     "text": [
      "<class 'pandas.core.frame.DataFrame'>\n",
      "RangeIndex: 1460 entries, 0 to 1459\n",
      "Data columns (total 12 columns):\n",
      " #   Column         Non-Null Count  Dtype  \n",
      "---  ------         --------------  -----  \n",
      " 0   FullBath       1460 non-null   int64  \n",
      " 1   TotRmsAbvGrd   1460 non-null   int64  \n",
      " 2   Fireplaces     1460 non-null   int64  \n",
      " 3   GarageYrBlt    1379 non-null   float64\n",
      " 4   GarageCars     1460 non-null   int64  \n",
      " 5   GarageArea     1460 non-null   int64  \n",
      " 6   LotFrontage    1201 non-null   float64\n",
      " 7   WoodDeckSF     1460 non-null   int64  \n",
      " 8   OpenPorchSF    1460 non-null   int64  \n",
      " 9   SaleType       1460 non-null   object \n",
      " 10  SaleCondition  1460 non-null   object \n",
      " 11  SalePrice      1460 non-null   int64  \n",
      "dtypes: float64(2), int64(8), object(2)\n",
      "memory usage: 137.0+ KB\n"
     ]
    }
   ],
   "source": [
    "# Usar o info() consultar mem usage e da contagem de non null values de cada col\n",
    "df_subset.info()"
   ]
  },
  {
   "cell_type": "markdown",
   "metadata": {},
   "source": [
    "## 2- Creating Labels"
   ]
  },
  {
   "cell_type": "markdown",
   "metadata": {},
   "source": [
    "**2.1- Create the `target` column based on `SalePrice`. The split should be done using the median value to create 2 new buckets. `Min->Median` bucket should have assigned the value `0` while the other bucket (`Median->Max`) value should be `1`.**\n",
    "\n",
    "\n",
    "\n",
    "**Note: you are free to decide the buckets boundaries**\n"
   ]
  },
  {
   "cell_type": "markdown",
   "metadata": {},
   "source": [
    "---"
   ]
  },
  {
   "cell_type": "markdown",
   "metadata": {},
   "source": [
    "O comando abaixo é utilizado para gerar estatísticas descritivas do DataFrame `df_subset` e transpor a saída para uma visualização mais clara:"
   ]
  },
  {
   "cell_type": "code",
   "execution_count": 3443,
   "metadata": {},
   "outputs": [
    {
     "data": {
      "text/html": [
       "<div>\n",
       "<style scoped>\n",
       "    .dataframe tbody tr th:only-of-type {\n",
       "        vertical-align: middle;\n",
       "    }\n",
       "\n",
       "    .dataframe tbody tr th {\n",
       "        vertical-align: top;\n",
       "    }\n",
       "\n",
       "    .dataframe thead th {\n",
       "        text-align: right;\n",
       "    }\n",
       "</style>\n",
       "<table border=\"1\" class=\"dataframe\">\n",
       "  <thead>\n",
       "    <tr style=\"text-align: right;\">\n",
       "      <th></th>\n",
       "      <th>count</th>\n",
       "      <th>mean</th>\n",
       "      <th>std</th>\n",
       "      <th>min</th>\n",
       "      <th>25%</th>\n",
       "      <th>50%</th>\n",
       "      <th>75%</th>\n",
       "      <th>max</th>\n",
       "    </tr>\n",
       "  </thead>\n",
       "  <tbody>\n",
       "    <tr>\n",
       "      <th>FullBath</th>\n",
       "      <td>1460.0</td>\n",
       "      <td>1.565068</td>\n",
       "      <td>0.550916</td>\n",
       "      <td>0.0</td>\n",
       "      <td>1.0</td>\n",
       "      <td>2.0</td>\n",
       "      <td>2.0</td>\n",
       "      <td>3.0</td>\n",
       "    </tr>\n",
       "    <tr>\n",
       "      <th>TotRmsAbvGrd</th>\n",
       "      <td>1460.0</td>\n",
       "      <td>6.517808</td>\n",
       "      <td>1.625393</td>\n",
       "      <td>2.0</td>\n",
       "      <td>5.0</td>\n",
       "      <td>6.0</td>\n",
       "      <td>7.0</td>\n",
       "      <td>14.0</td>\n",
       "    </tr>\n",
       "    <tr>\n",
       "      <th>Fireplaces</th>\n",
       "      <td>1460.0</td>\n",
       "      <td>0.613014</td>\n",
       "      <td>0.644666</td>\n",
       "      <td>0.0</td>\n",
       "      <td>0.0</td>\n",
       "      <td>1.0</td>\n",
       "      <td>1.0</td>\n",
       "      <td>3.0</td>\n",
       "    </tr>\n",
       "    <tr>\n",
       "      <th>GarageYrBlt</th>\n",
       "      <td>1379.0</td>\n",
       "      <td>1978.506164</td>\n",
       "      <td>24.689725</td>\n",
       "      <td>1900.0</td>\n",
       "      <td>1961.0</td>\n",
       "      <td>1980.0</td>\n",
       "      <td>2002.0</td>\n",
       "      <td>2010.0</td>\n",
       "    </tr>\n",
       "    <tr>\n",
       "      <th>GarageCars</th>\n",
       "      <td>1460.0</td>\n",
       "      <td>1.767123</td>\n",
       "      <td>0.747315</td>\n",
       "      <td>0.0</td>\n",
       "      <td>1.0</td>\n",
       "      <td>2.0</td>\n",
       "      <td>2.0</td>\n",
       "      <td>4.0</td>\n",
       "    </tr>\n",
       "    <tr>\n",
       "      <th>GarageArea</th>\n",
       "      <td>1460.0</td>\n",
       "      <td>472.980137</td>\n",
       "      <td>213.804841</td>\n",
       "      <td>0.0</td>\n",
       "      <td>334.5</td>\n",
       "      <td>480.0</td>\n",
       "      <td>576.0</td>\n",
       "      <td>1418.0</td>\n",
       "    </tr>\n",
       "    <tr>\n",
       "      <th>LotFrontage</th>\n",
       "      <td>1201.0</td>\n",
       "      <td>70.049958</td>\n",
       "      <td>24.284752</td>\n",
       "      <td>21.0</td>\n",
       "      <td>59.0</td>\n",
       "      <td>69.0</td>\n",
       "      <td>80.0</td>\n",
       "      <td>313.0</td>\n",
       "    </tr>\n",
       "    <tr>\n",
       "      <th>WoodDeckSF</th>\n",
       "      <td>1460.0</td>\n",
       "      <td>94.244521</td>\n",
       "      <td>125.338794</td>\n",
       "      <td>0.0</td>\n",
       "      <td>0.0</td>\n",
       "      <td>0.0</td>\n",
       "      <td>168.0</td>\n",
       "      <td>857.0</td>\n",
       "    </tr>\n",
       "    <tr>\n",
       "      <th>OpenPorchSF</th>\n",
       "      <td>1460.0</td>\n",
       "      <td>46.660274</td>\n",
       "      <td>66.256028</td>\n",
       "      <td>0.0</td>\n",
       "      <td>0.0</td>\n",
       "      <td>25.0</td>\n",
       "      <td>68.0</td>\n",
       "      <td>547.0</td>\n",
       "    </tr>\n",
       "    <tr>\n",
       "      <th>SalePrice</th>\n",
       "      <td>1460.0</td>\n",
       "      <td>180921.195890</td>\n",
       "      <td>79442.502883</td>\n",
       "      <td>34900.0</td>\n",
       "      <td>129975.0</td>\n",
       "      <td>163000.0</td>\n",
       "      <td>214000.0</td>\n",
       "      <td>755000.0</td>\n",
       "    </tr>\n",
       "  </tbody>\n",
       "</table>\n",
       "</div>"
      ],
      "text/plain": [
       "               count           mean           std      min       25%  \\\n",
       "FullBath      1460.0       1.565068      0.550916      0.0       1.0   \n",
       "TotRmsAbvGrd  1460.0       6.517808      1.625393      2.0       5.0   \n",
       "Fireplaces    1460.0       0.613014      0.644666      0.0       0.0   \n",
       "GarageYrBlt   1379.0    1978.506164     24.689725   1900.0    1961.0   \n",
       "GarageCars    1460.0       1.767123      0.747315      0.0       1.0   \n",
       "GarageArea    1460.0     472.980137    213.804841      0.0     334.5   \n",
       "LotFrontage   1201.0      70.049958     24.284752     21.0      59.0   \n",
       "WoodDeckSF    1460.0      94.244521    125.338794      0.0       0.0   \n",
       "OpenPorchSF   1460.0      46.660274     66.256028      0.0       0.0   \n",
       "SalePrice     1460.0  180921.195890  79442.502883  34900.0  129975.0   \n",
       "\n",
       "                   50%       75%       max  \n",
       "FullBath           2.0       2.0       3.0  \n",
       "TotRmsAbvGrd       6.0       7.0      14.0  \n",
       "Fireplaces         1.0       1.0       3.0  \n",
       "GarageYrBlt     1980.0    2002.0    2010.0  \n",
       "GarageCars         2.0       2.0       4.0  \n",
       "GarageArea       480.0     576.0    1418.0  \n",
       "LotFrontage       69.0      80.0     313.0  \n",
       "WoodDeckSF         0.0     168.0     857.0  \n",
       "OpenPorchSF       25.0      68.0     547.0  \n",
       "SalePrice     163000.0  214000.0  755000.0  "
      ]
     },
     "execution_count": 3443,
     "metadata": {},
     "output_type": "execute_result"
    }
   ],
   "source": [
    "df_subset.describe().T"
   ]
  },
  {
   "cell_type": "markdown",
   "metadata": {},
   "source": [
    "O bloco de código a seguir utiliza o `KBinsDiscretizer` para categorizar a coluna `SalePrice` em dois grupos (bins) com base na estratégia de quantis:\n"
   ]
  },
  {
   "cell_type": "code",
   "execution_count": 3444,
   "metadata": {},
   "outputs": [
    {
     "name": "stdout",
     "output_type": "stream",
     "text": [
      "SalesPriceTarget\n",
      "1    732\n",
      "0    728\n",
      "Name: count, dtype: int64\n"
     ]
    },
    {
     "name": "stderr",
     "output_type": "stream",
     "text": [
      "C:\\Users\\PereiraRodrigues\\AppData\\Local\\Temp\\ipykernel_7652\\2765499866.py:5: SettingWithCopyWarning: \n",
      "A value is trying to be set on a copy of a slice from a DataFrame.\n",
      "Try using .loc[row_indexer,col_indexer] = value instead\n",
      "\n",
      "See the caveats in the documentation: https://pandas.pydata.org/pandas-docs/stable/user_guide/indexing.html#returning-a-view-versus-a-copy\n",
      "  df_subset['SalesPriceTarget'] = discretizer.fit_transform(df_subset[['SalePrice']]).astype(int).flatten()\n"
     ]
    }
   ],
   "source": [
    "\n",
    "# Criar o KBinsDiscretizer para 2 bins usando a estratégia quantile\n",
    "discretizer = KBinsDiscretizer(n_bins=2, encode='ordinal', strategy='quantile')\n",
    "\n",
    "# Ajustar e transformar os valores de SalePrice\n",
    "df_subset['SalesPriceTarget'] = discretizer.fit_transform(df_subset[['SalePrice']]).astype(int).flatten()\n",
    "\n",
    "print(df_subset['SalesPriceTarget'].value_counts())\n"
   ]
  },
  {
   "cell_type": "code",
   "execution_count": 3445,
   "metadata": {},
   "outputs": [
    {
     "data": {
      "text/html": [
       "<div>\n",
       "<style scoped>\n",
       "    .dataframe tbody tr th:only-of-type {\n",
       "        vertical-align: middle;\n",
       "    }\n",
       "\n",
       "    .dataframe tbody tr th {\n",
       "        vertical-align: top;\n",
       "    }\n",
       "\n",
       "    .dataframe thead th {\n",
       "        text-align: right;\n",
       "    }\n",
       "</style>\n",
       "<table border=\"1\" class=\"dataframe\">\n",
       "  <thead>\n",
       "    <tr style=\"text-align: right;\">\n",
       "      <th></th>\n",
       "      <th>FullBath</th>\n",
       "      <th>TotRmsAbvGrd</th>\n",
       "      <th>Fireplaces</th>\n",
       "      <th>GarageYrBlt</th>\n",
       "      <th>GarageCars</th>\n",
       "      <th>GarageArea</th>\n",
       "      <th>LotFrontage</th>\n",
       "      <th>WoodDeckSF</th>\n",
       "      <th>OpenPorchSF</th>\n",
       "      <th>SaleType</th>\n",
       "      <th>SaleCondition</th>\n",
       "      <th>SalePrice</th>\n",
       "      <th>SalesPriceTarget</th>\n",
       "    </tr>\n",
       "  </thead>\n",
       "  <tbody>\n",
       "    <tr>\n",
       "      <th>297</th>\n",
       "      <td>2</td>\n",
       "      <td>7</td>\n",
       "      <td>1</td>\n",
       "      <td>1997.0</td>\n",
       "      <td>2</td>\n",
       "      <td>576</td>\n",
       "      <td>66.0</td>\n",
       "      <td>0</td>\n",
       "      <td>10</td>\n",
       "      <td>WD</td>\n",
       "      <td>Normal</td>\n",
       "      <td>239000</td>\n",
       "      <td>1</td>\n",
       "    </tr>\n",
       "    <tr>\n",
       "      <th>1005</th>\n",
       "      <td>2</td>\n",
       "      <td>6</td>\n",
       "      <td>0</td>\n",
       "      <td>1977.0</td>\n",
       "      <td>1</td>\n",
       "      <td>328</td>\n",
       "      <td>65.0</td>\n",
       "      <td>210</td>\n",
       "      <td>0</td>\n",
       "      <td>WD</td>\n",
       "      <td>Normal</td>\n",
       "      <td>149900</td>\n",
       "      <td>0</td>\n",
       "    </tr>\n",
       "    <tr>\n",
       "      <th>721</th>\n",
       "      <td>1</td>\n",
       "      <td>3</td>\n",
       "      <td>0</td>\n",
       "      <td>2004.0</td>\n",
       "      <td>2</td>\n",
       "      <td>420</td>\n",
       "      <td>NaN</td>\n",
       "      <td>160</td>\n",
       "      <td>0</td>\n",
       "      <td>WD</td>\n",
       "      <td>Normal</td>\n",
       "      <td>143000</td>\n",
       "      <td>0</td>\n",
       "    </tr>\n",
       "    <tr>\n",
       "      <th>789</th>\n",
       "      <td>2</td>\n",
       "      <td>9</td>\n",
       "      <td>0</td>\n",
       "      <td>1966.0</td>\n",
       "      <td>2</td>\n",
       "      <td>444</td>\n",
       "      <td>NaN</td>\n",
       "      <td>133</td>\n",
       "      <td>168</td>\n",
       "      <td>WD</td>\n",
       "      <td>Normal</td>\n",
       "      <td>187500</td>\n",
       "      <td>1</td>\n",
       "    </tr>\n",
       "    <tr>\n",
       "      <th>849</th>\n",
       "      <td>2</td>\n",
       "      <td>7</td>\n",
       "      <td>1</td>\n",
       "      <td>1976.0</td>\n",
       "      <td>2</td>\n",
       "      <td>512</td>\n",
       "      <td>80.0</td>\n",
       "      <td>113</td>\n",
       "      <td>100</td>\n",
       "      <td>WD</td>\n",
       "      <td>Normal</td>\n",
       "      <td>187000</td>\n",
       "      <td>1</td>\n",
       "    </tr>\n",
       "    <tr>\n",
       "      <th>853</th>\n",
       "      <td>1</td>\n",
       "      <td>7</td>\n",
       "      <td>1</td>\n",
       "      <td>1964.0</td>\n",
       "      <td>2</td>\n",
       "      <td>645</td>\n",
       "      <td>NaN</td>\n",
       "      <td>180</td>\n",
       "      <td>0</td>\n",
       "      <td>WD</td>\n",
       "      <td>Normal</td>\n",
       "      <td>158000</td>\n",
       "      <td>0</td>\n",
       "    </tr>\n",
       "    <tr>\n",
       "      <th>199</th>\n",
       "      <td>2</td>\n",
       "      <td>7</td>\n",
       "      <td>1</td>\n",
       "      <td>2004.0</td>\n",
       "      <td>3</td>\n",
       "      <td>856</td>\n",
       "      <td>76.0</td>\n",
       "      <td>0</td>\n",
       "      <td>26</td>\n",
       "      <td>WD</td>\n",
       "      <td>Normal</td>\n",
       "      <td>274900</td>\n",
       "      <td>1</td>\n",
       "    </tr>\n",
       "    <tr>\n",
       "      <th>1116</th>\n",
       "      <td>2</td>\n",
       "      <td>7</td>\n",
       "      <td>1</td>\n",
       "      <td>2002.0</td>\n",
       "      <td>2</td>\n",
       "      <td>527</td>\n",
       "      <td>NaN</td>\n",
       "      <td>120</td>\n",
       "      <td>0</td>\n",
       "      <td>WD</td>\n",
       "      <td>Normal</td>\n",
       "      <td>184100</td>\n",
       "      <td>1</td>\n",
       "    </tr>\n",
       "    <tr>\n",
       "      <th>665</th>\n",
       "      <td>2</td>\n",
       "      <td>7</td>\n",
       "      <td>1</td>\n",
       "      <td>2000.0</td>\n",
       "      <td>2</td>\n",
       "      <td>504</td>\n",
       "      <td>106.0</td>\n",
       "      <td>188</td>\n",
       "      <td>124</td>\n",
       "      <td>WD</td>\n",
       "      <td>Normal</td>\n",
       "      <td>230500</td>\n",
       "      <td>1</td>\n",
       "    </tr>\n",
       "    <tr>\n",
       "      <th>1152</th>\n",
       "      <td>1</td>\n",
       "      <td>6</td>\n",
       "      <td>1</td>\n",
       "      <td>1956.0</td>\n",
       "      <td>2</td>\n",
       "      <td>470</td>\n",
       "      <td>90.0</td>\n",
       "      <td>0</td>\n",
       "      <td>0</td>\n",
       "      <td>WD</td>\n",
       "      <td>Abnorml</td>\n",
       "      <td>230000</td>\n",
       "      <td>1</td>\n",
       "    </tr>\n",
       "  </tbody>\n",
       "</table>\n",
       "</div>"
      ],
      "text/plain": [
       "      FullBath  TotRmsAbvGrd  Fireplaces  GarageYrBlt  GarageCars  GarageArea  \\\n",
       "297          2             7           1       1997.0           2         576   \n",
       "1005         2             6           0       1977.0           1         328   \n",
       "721          1             3           0       2004.0           2         420   \n",
       "789          2             9           0       1966.0           2         444   \n",
       "849          2             7           1       1976.0           2         512   \n",
       "853          1             7           1       1964.0           2         645   \n",
       "199          2             7           1       2004.0           3         856   \n",
       "1116         2             7           1       2002.0           2         527   \n",
       "665          2             7           1       2000.0           2         504   \n",
       "1152         1             6           1       1956.0           2         470   \n",
       "\n",
       "      LotFrontage  WoodDeckSF  OpenPorchSF SaleType SaleCondition  SalePrice  \\\n",
       "297          66.0           0           10       WD        Normal     239000   \n",
       "1005         65.0         210            0       WD        Normal     149900   \n",
       "721           NaN         160            0       WD        Normal     143000   \n",
       "789           NaN         133          168       WD        Normal     187500   \n",
       "849          80.0         113          100       WD        Normal     187000   \n",
       "853           NaN         180            0       WD        Normal     158000   \n",
       "199          76.0           0           26       WD        Normal     274900   \n",
       "1116          NaN         120            0       WD        Normal     184100   \n",
       "665         106.0         188          124       WD        Normal     230500   \n",
       "1152         90.0           0            0       WD       Abnorml     230000   \n",
       "\n",
       "      SalesPriceTarget  \n",
       "297                  1  \n",
       "1005                 0  \n",
       "721                  0  \n",
       "789                  1  \n",
       "849                  1  \n",
       "853                  0  \n",
       "199                  1  \n",
       "1116                 1  \n",
       "665                  1  \n",
       "1152                 1  "
      ]
     },
     "execution_count": 3445,
     "metadata": {},
     "output_type": "execute_result"
    }
   ],
   "source": [
    "df_subset.sample(10)"
   ]
  },
  {
   "cell_type": "markdown",
   "metadata": {},
   "source": [
    "## 3- Handling Missing Values"
   ]
  },
  {
   "cell_type": "markdown",
   "metadata": {},
   "source": [
    "**3.1- List the amount of missing values per column**"
   ]
  },
  {
   "cell_type": "markdown",
   "metadata": {},
   "source": [
    "---"
   ]
  },
  {
   "cell_type": "markdown",
   "metadata": {},
   "source": [
    "O bloco de código seguinte identifica e lista o número de valores ausentes em cada coluna do DataFrame `df_subset`:"
   ]
  },
  {
   "cell_type": "code",
   "execution_count": 3446,
   "metadata": {},
   "outputs": [
    {
     "data": {
      "text/plain": [
       "LotFrontage    259\n",
       "GarageYrBlt     81\n",
       "dtype: int64"
      ]
     },
     "execution_count": 3446,
     "metadata": {},
     "output_type": "execute_result"
    }
   ],
   "source": [
    "# Listar o número de valores ausentes por coluna\n",
    "missing_values = df_subset.isnull().sum()\n",
    "missing_values = missing_values[missing_values > 0].sort_values(ascending=False)\n",
    "missing_values\n"
   ]
  },
  {
   "cell_type": "markdown",
   "metadata": {},
   "source": [
    "**3.2- Take care of the missing values in the column `LotFrontage`**"
   ]
  },
  {
   "cell_type": "markdown",
   "metadata": {},
   "source": [
    "---"
   ]
  },
  {
   "cell_type": "markdown",
   "metadata": {},
   "source": [
    "A função `plot_histogram` cria um histograma com a opção de incluir uma linha KDE para um determinado DataFrame e coluna, permitindo personalização do gráfico com vários parâmetros.\n"
   ]
  },
  {
   "cell_type": "code",
   "execution_count": 3447,
   "metadata": {},
   "outputs": [],
   "source": [
    "def plot_histogram(data, x_column, bins=100, kde=True, line_width=3, title='Depth Distribution of Diamonds', xlabel='Diamond Depth', ylabel='# Diamonds', color=None):\n",
    "    \"\"\"\n",
    "    Cria um histograma com opção de incluir uma linha KDE para um determinado DataFrame e coluna.\n",
    "\n",
    "    Parâmetros:\n",
    "        data (DataFrame): O DataFrame contendo os dados a serem plotados.\n",
    "        x_column (str): O nome da coluna a ser plotada no eixo x.\n",
    "        bins (int): Número de bins para o histograma (o padrão é 100).\n",
    "        kde (bool): Indica se deve incluir uma linha KDE (o padrão é True).\n",
    "        line_width (int): Espessura da linha KDE (o padrão é 3).\n",
    "        title (str): Título do gráfico (o padrão é 'Distribuição da Profundidade dos Diamantes').\n",
    "        xlabel (str): Rótulo para o eixo x (o padrão é 'Profundidade do Diamante').\n",
    "        ylabel (str): Rótulo para o eixo y (o padrão é '# Diamantes').\n",
    "    \"\"\"\n",
    "    \n",
    "    fig = plt.figure(figsize=(18, 6))\n",
    "\n",
    "    # cria histograma\n",
    "    sns.histplot(\n",
    "        data,\n",
    "        x=x_column,\n",
    "        bins=bins,\n",
    "        kde=kde,\n",
    "        line_kws={'lw': line_width},\n",
    "        color=color\n",
    "    )\n",
    "\n",
    "    # Adiciona titulos e legenda dos eixos\n",
    "    plt.title(title)\n",
    "    plt.xlabel(xlabel)\n",
    "    plt.ylabel(ylabel)\n",
    "\n",
    "    # Show the plot\n",
    "    plt.show()"
   ]
  },
  {
   "cell_type": "markdown",
   "metadata": {},
   "source": [
    "Na célula abaixo, é chamado a função definida acima, de forma a gerar um histograma para validar distribuição"
   ]
  },
  {
   "cell_type": "code",
   "execution_count": 3448,
   "metadata": {},
   "outputs": [
    {
     "data": {
      "image/png": "[encoded data removed]",
      "text/plain": [
       "<Figure size 1800x600 with 1 Axes>"
      ]
     },
     "metadata": {},
     "output_type": "display_data"
    }
   ],
   "source": [
    "plot_histogram(df_subset, 'LotFrontage', bins=100, kde=True, line_width=3, title='Lot Frontage Distribution of Houses', xlabel='Lot Frontage', ylabel='# Houses',color='purple')"
   ]
  },
  {
   "cell_type": "markdown",
   "metadata": {},
   "source": [
    "Pelo histograma, a forma geral da distribuição parece ligeriamente assimétrica à direita, indicando que a maioria dos valores estão concentrados na parte inferior do intervalo (entre 0 e 100) com uma cauda longa à direita que sugere uma análise a possibilidade d eoutlieres."
   ]
  },
  {
   "cell_type": "markdown",
   "metadata": {},
   "source": [
    "Como é possivel ver acima  na célula de estatísticas descritivas através do comando `describe()`, verifica-se que a mediana (69) está muito próxima à média (70.05), sugerindo uma maior concentração dos valores em torno da média, no entanto existem  valores altos como 313, sugerindo a possibilidade de outliers.\n",
    "Abaixo é feito a verificação de outliers segundo o metodo intequartis. \n",
    "\n"
   ]
  },
  {
   "cell_type": "code",
   "execution_count": 3449,
   "metadata": {},
   "outputs": [],
   "source": [
    "def detect_outliers_iqr(data, column_name):\n",
    "    \"\"\"\n",
    "    Detecta outliers em uma coluna específica de um DataFrame utilizando o método IQR.\n",
    "\n",
    "    Parâmetros:\n",
    "        data (pd.DataFrame): O DataFrame contendo os dados.\n",
    "        column_name (str): O nome da coluna para analisar outliers.\n",
    "\n",
    "    Retorna:\n",
    "        dict: Um dicionário com a contagem total de outliers, limite inferior e limite superior.\n",
    "        pd.DataFrame: Um DataFrame atualizado com uma coluna adicional indicando outliers.\n",
    "\n",
    "    \"\"\"\n",
    "    # Calcula o IQR (Intervalo Interquartil)\n",
    "    Q1 = data[column_name].quantile(0.25)  # Primeiro quartil (25%)\n",
    "    Q3 = data[column_name].quantile(0.75)  # Terceiro quartil (75%)\n",
    "    IQR = Q3 - Q1  # Diferença entre Q3 e Q1\n",
    "\n",
    "    # Define os limites do IQR para detectar outliers\n",
    "    lower_bound_iqr = Q1 - 1.5 * IQR  # Limite inferior\n",
    "    upper_bound_iqr = Q3 + 1.5 * IQR  # Limite superior\n",
    "\n",
    "    # Detecta os outliers com base nos limites definidos\n",
    "    data[f\"{column_name}_Outlier\"] = data[column_name].map(\n",
    "        lambda x: 1 if x < lower_bound_iqr or x > upper_bound_iqr else 0\n",
    "    )\n",
    "\n",
    "    # Conta o número total de outliers encontrados\n",
    "    outlier_count = data[f\"{column_name}_Outlier\"].sum()\n",
    "    outlier_info = {\n",
    "        \"Total de Outliers\": outlier_count,  # Total de outliers\n",
    "        \"Limite Inferior\": lower_bound_iqr,  # Limite inferior do IQR\n",
    "        \"Limite Superior\": upper_bound_iqr  # Limite superior do IQR\n",
    "    }\n",
    "\n",
    "    # Retorna as informações de outliers e o DataFrame atualizado\n",
    "    return outlier_info, data"
   ]
  },
  {
   "cell_type": "code",
   "execution_count": 3450,
   "metadata": {},
   "outputs": [
    {
     "name": "stdout",
     "output_type": "stream",
     "text": [
      "{'Total de Outliers': np.int64(88), 'Limite Inferior': np.float64(27.5), 'Limite Superior': np.float64(111.5)}\n"
     ]
    },
    {
     "name": "stderr",
     "output_type": "stream",
     "text": [
      "C:\\Users\\PereiraRodrigues\\AppData\\Local\\Temp\\ipykernel_7652\\3659428370.py:24: SettingWithCopyWarning: \n",
      "A value is trying to be set on a copy of a slice from a DataFrame.\n",
      "Try using .loc[row_indexer,col_indexer] = value instead\n",
      "\n",
      "See the caveats in the documentation: https://pandas.pydata.org/pandas-docs/stable/user_guide/indexing.html#returning-a-view-versus-a-copy\n",
      "  data[f\"{column_name}_Outlier\"] = data[column_name].map(\n"
     ]
    }
   ],
   "source": [
    "outlierinfo = detect_outliers_iqr(df_subset, 'LotFrontage')\n",
    "print(outlierinfo[0])"
   ]
  },
  {
   "cell_type": "markdown",
   "metadata": {},
   "source": [
    "Verificando que existe cerca de 88 registos outliers, foi utilizado a técnica de imputação para preencher os valores ausentes na coluna `LotFrontage` com base na mediana que é mais robusta a outliers."
   ]
  },
  {
   "cell_type": "code",
   "execution_count": 3451,
   "metadata": {},
   "outputs": [
    {
     "name": "stdout",
     "output_type": "stream",
     "text": [
      "Valores nulos após imputação: 0\n"
     ]
    },
    {
     "name": "stderr",
     "output_type": "stream",
     "text": [
      "C:\\Users\\PereiraRodrigues\\AppData\\Local\\Temp\\ipykernel_7652\\1107123994.py:5: SettingWithCopyWarning: \n",
      "A value is trying to be set on a copy of a slice from a DataFrame.\n",
      "Try using .loc[row_indexer,col_indexer] = value instead\n",
      "\n",
      "See the caveats in the documentation: https://pandas.pydata.org/pandas-docs/stable/user_guide/indexing.html#returning-a-view-versus-a-copy\n",
      "  df_subset[['LotFrontage']] = imputer.fit_transform(df_subset[['LotFrontage']])\n"
     ]
    },
    {
     "data": {
      "text/html": [
       "<div>\n",
       "<style scoped>\n",
       "    .dataframe tbody tr th:only-of-type {\n",
       "        vertical-align: middle;\n",
       "    }\n",
       "\n",
       "    .dataframe tbody tr th {\n",
       "        vertical-align: top;\n",
       "    }\n",
       "\n",
       "    .dataframe thead th {\n",
       "        text-align: right;\n",
       "    }\n",
       "</style>\n",
       "<table border=\"1\" class=\"dataframe\">\n",
       "  <thead>\n",
       "    <tr style=\"text-align: right;\">\n",
       "      <th></th>\n",
       "      <th>FullBath</th>\n",
       "      <th>TotRmsAbvGrd</th>\n",
       "      <th>Fireplaces</th>\n",
       "      <th>GarageYrBlt</th>\n",
       "      <th>GarageCars</th>\n",
       "      <th>GarageArea</th>\n",
       "      <th>LotFrontage</th>\n",
       "      <th>WoodDeckSF</th>\n",
       "      <th>OpenPorchSF</th>\n",
       "      <th>SaleType</th>\n",
       "      <th>SaleCondition</th>\n",
       "      <th>SalePrice</th>\n",
       "      <th>SalesPriceTarget</th>\n",
       "    </tr>\n",
       "  </thead>\n",
       "  <tbody>\n",
       "    <tr>\n",
       "      <th>0</th>\n",
       "      <td>2</td>\n",
       "      <td>8</td>\n",
       "      <td>0</td>\n",
       "      <td>2003.0</td>\n",
       "      <td>2</td>\n",
       "      <td>548</td>\n",
       "      <td>65.0</td>\n",
       "      <td>0</td>\n",
       "      <td>61</td>\n",
       "      <td>WD</td>\n",
       "      <td>Normal</td>\n",
       "      <td>208500</td>\n",
       "      <td>1</td>\n",
       "    </tr>\n",
       "    <tr>\n",
       "      <th>1</th>\n",
       "      <td>2</td>\n",
       "      <td>6</td>\n",
       "      <td>1</td>\n",
       "      <td>1976.0</td>\n",
       "      <td>2</td>\n",
       "      <td>460</td>\n",
       "      <td>80.0</td>\n",
       "      <td>298</td>\n",
       "      <td>0</td>\n",
       "      <td>WD</td>\n",
       "      <td>Normal</td>\n",
       "      <td>181500</td>\n",
       "      <td>1</td>\n",
       "    </tr>\n",
       "    <tr>\n",
       "      <th>2</th>\n",
       "      <td>2</td>\n",
       "      <td>6</td>\n",
       "      <td>1</td>\n",
       "      <td>2001.0</td>\n",
       "      <td>2</td>\n",
       "      <td>608</td>\n",
       "      <td>68.0</td>\n",
       "      <td>0</td>\n",
       "      <td>42</td>\n",
       "      <td>WD</td>\n",
       "      <td>Normal</td>\n",
       "      <td>223500</td>\n",
       "      <td>1</td>\n",
       "    </tr>\n",
       "    <tr>\n",
       "      <th>3</th>\n",
       "      <td>1</td>\n",
       "      <td>7</td>\n",
       "      <td>1</td>\n",
       "      <td>1998.0</td>\n",
       "      <td>3</td>\n",
       "      <td>642</td>\n",
       "      <td>60.0</td>\n",
       "      <td>0</td>\n",
       "      <td>35</td>\n",
       "      <td>WD</td>\n",
       "      <td>Abnorml</td>\n",
       "      <td>140000</td>\n",
       "      <td>0</td>\n",
       "    </tr>\n",
       "    <tr>\n",
       "      <th>4</th>\n",
       "      <td>2</td>\n",
       "      <td>9</td>\n",
       "      <td>1</td>\n",
       "      <td>2000.0</td>\n",
       "      <td>3</td>\n",
       "      <td>836</td>\n",
       "      <td>84.0</td>\n",
       "      <td>192</td>\n",
       "      <td>84</td>\n",
       "      <td>WD</td>\n",
       "      <td>Normal</td>\n",
       "      <td>250000</td>\n",
       "      <td>1</td>\n",
       "    </tr>\n",
       "    <tr>\n",
       "      <th>...</th>\n",
       "      <td>...</td>\n",
       "      <td>...</td>\n",
       "      <td>...</td>\n",
       "      <td>...</td>\n",
       "      <td>...</td>\n",
       "      <td>...</td>\n",
       "      <td>...</td>\n",
       "      <td>...</td>\n",
       "      <td>...</td>\n",
       "      <td>...</td>\n",
       "      <td>...</td>\n",
       "      <td>...</td>\n",
       "      <td>...</td>\n",
       "    </tr>\n",
       "    <tr>\n",
       "      <th>1455</th>\n",
       "      <td>2</td>\n",
       "      <td>7</td>\n",
       "      <td>1</td>\n",
       "      <td>1999.0</td>\n",
       "      <td>2</td>\n",
       "      <td>460</td>\n",
       "      <td>62.0</td>\n",
       "      <td>0</td>\n",
       "      <td>40</td>\n",
       "      <td>WD</td>\n",
       "      <td>Normal</td>\n",
       "      <td>175000</td>\n",
       "      <td>1</td>\n",
       "    </tr>\n",
       "    <tr>\n",
       "      <th>1456</th>\n",
       "      <td>2</td>\n",
       "      <td>7</td>\n",
       "      <td>2</td>\n",
       "      <td>1978.0</td>\n",
       "      <td>2</td>\n",
       "      <td>500</td>\n",
       "      <td>85.0</td>\n",
       "      <td>349</td>\n",
       "      <td>0</td>\n",
       "      <td>WD</td>\n",
       "      <td>Normal</td>\n",
       "      <td>210000</td>\n",
       "      <td>1</td>\n",
       "    </tr>\n",
       "    <tr>\n",
       "      <th>1457</th>\n",
       "      <td>2</td>\n",
       "      <td>9</td>\n",
       "      <td>2</td>\n",
       "      <td>1941.0</td>\n",
       "      <td>1</td>\n",
       "      <td>252</td>\n",
       "      <td>66.0</td>\n",
       "      <td>0</td>\n",
       "      <td>60</td>\n",
       "      <td>WD</td>\n",
       "      <td>Normal</td>\n",
       "      <td>266500</td>\n",
       "      <td>1</td>\n",
       "    </tr>\n",
       "    <tr>\n",
       "      <th>1458</th>\n",
       "      <td>1</td>\n",
       "      <td>5</td>\n",
       "      <td>0</td>\n",
       "      <td>1950.0</td>\n",
       "      <td>1</td>\n",
       "      <td>240</td>\n",
       "      <td>68.0</td>\n",
       "      <td>366</td>\n",
       "      <td>0</td>\n",
       "      <td>WD</td>\n",
       "      <td>Normal</td>\n",
       "      <td>142125</td>\n",
       "      <td>0</td>\n",
       "    </tr>\n",
       "    <tr>\n",
       "      <th>1459</th>\n",
       "      <td>1</td>\n",
       "      <td>6</td>\n",
       "      <td>0</td>\n",
       "      <td>1965.0</td>\n",
       "      <td>1</td>\n",
       "      <td>276</td>\n",
       "      <td>75.0</td>\n",
       "      <td>736</td>\n",
       "      <td>68</td>\n",
       "      <td>WD</td>\n",
       "      <td>Normal</td>\n",
       "      <td>147500</td>\n",
       "      <td>0</td>\n",
       "    </tr>\n",
       "  </tbody>\n",
       "</table>\n",
       "<p>1460 rows × 13 columns</p>\n",
       "</div>"
      ],
      "text/plain": [
       "      FullBath  TotRmsAbvGrd  Fireplaces  GarageYrBlt  GarageCars  GarageArea  \\\n",
       "0            2             8           0       2003.0           2         548   \n",
       "1            2             6           1       1976.0           2         460   \n",
       "2            2             6           1       2001.0           2         608   \n",
       "3            1             7           1       1998.0           3         642   \n",
       "4            2             9           1       2000.0           3         836   \n",
       "...        ...           ...         ...          ...         ...         ...   \n",
       "1455         2             7           1       1999.0           2         460   \n",
       "1456         2             7           2       1978.0           2         500   \n",
       "1457         2             9           2       1941.0           1         252   \n",
       "1458         1             5           0       1950.0           1         240   \n",
       "1459         1             6           0       1965.0           1         276   \n",
       "\n",
       "      LotFrontage  WoodDeckSF  OpenPorchSF SaleType SaleCondition  SalePrice  \\\n",
       "0            65.0           0           61       WD        Normal     208500   \n",
       "1            80.0         298            0       WD        Normal     181500   \n",
       "2            68.0           0           42       WD        Normal     223500   \n",
       "3            60.0           0           35       WD       Abnorml     140000   \n",
       "4            84.0         192           84       WD        Normal     250000   \n",
       "...           ...         ...          ...      ...           ...        ...   \n",
       "1455         62.0           0           40       WD        Normal     175000   \n",
       "1456         85.0         349            0       WD        Normal     210000   \n",
       "1457         66.0           0           60       WD        Normal     266500   \n",
       "1458         68.0         366            0       WD        Normal     142125   \n",
       "1459         75.0         736           68       WD        Normal     147500   \n",
       "\n",
       "      SalesPriceTarget  \n",
       "0                    1  \n",
       "1                    1  \n",
       "2                    1  \n",
       "3                    0  \n",
       "4                    1  \n",
       "...                ...  \n",
       "1455                 1  \n",
       "1456                 1  \n",
       "1457                 1  \n",
       "1458                 0  \n",
       "1459                 0  \n",
       "\n",
       "[1460 rows x 13 columns]"
      ]
     },
     "execution_count": 3451,
     "metadata": {},
     "output_type": "execute_result"
    }
   ],
   "source": [
    "# Criando o imputer com a estratégia de mediana\n",
    "imputer = SimpleImputer(strategy='median')\n",
    "\n",
    "# Aplicando o imputer na coluna LotFrontage\n",
    "df_subset[['LotFrontage']] = imputer.fit_transform(df_subset[['LotFrontage']])\n",
    "\n",
    "# Verificando se há valores nulos após a imputação\n",
    "missing_after_imputation = df_subset['LotFrontage'].isnull().sum()\n",
    "print(f'Valores nulos após imputação: {missing_after_imputation}')\n",
    "\n",
    "# Eliminar coluna de identificação de outlier, porque já não é preciso\n",
    "df_subset.drop('LotFrontage_Outlier', axis=1)\n"
   ]
  },
  {
   "cell_type": "markdown",
   "metadata": {},
   "source": [
    "## 4- Handling Categorical Data"
   ]
  },
  {
   "cell_type": "markdown",
   "metadata": {},
   "source": [
    "**4.1- Split categorical feature into a `df_categorical` dataframe**"
   ]
  },
  {
   "cell_type": "markdown",
   "metadata": {},
   "source": [
    "---"
   ]
  },
  {
   "cell_type": "code",
   "execution_count": 3452,
   "metadata": {},
   "outputs": [
    {
     "data": {
      "text/html": [
       "<div>\n",
       "<style scoped>\n",
       "    .dataframe tbody tr th:only-of-type {\n",
       "        vertical-align: middle;\n",
       "    }\n",
       "\n",
       "    .dataframe tbody tr th {\n",
       "        vertical-align: top;\n",
       "    }\n",
       "\n",
       "    .dataframe thead th {\n",
       "        text-align: right;\n",
       "    }\n",
       "</style>\n",
       "<table border=\"1\" class=\"dataframe\">\n",
       "  <thead>\n",
       "    <tr style=\"text-align: right;\">\n",
       "      <th></th>\n",
       "      <th>FullBath</th>\n",
       "      <th>TotRmsAbvGrd</th>\n",
       "      <th>Fireplaces</th>\n",
       "      <th>GarageYrBlt</th>\n",
       "      <th>GarageCars</th>\n",
       "      <th>GarageArea</th>\n",
       "      <th>LotFrontage</th>\n",
       "      <th>WoodDeckSF</th>\n",
       "      <th>OpenPorchSF</th>\n",
       "      <th>SaleType</th>\n",
       "      <th>SaleCondition</th>\n",
       "      <th>SalePrice</th>\n",
       "      <th>SalesPriceTarget</th>\n",
       "      <th>LotFrontage_Outlier</th>\n",
       "    </tr>\n",
       "  </thead>\n",
       "  <tbody>\n",
       "    <tr>\n",
       "      <th>0</th>\n",
       "      <td>2</td>\n",
       "      <td>8</td>\n",
       "      <td>0</td>\n",
       "      <td>2003.0</td>\n",
       "      <td>2</td>\n",
       "      <td>548</td>\n",
       "      <td>65.0</td>\n",
       "      <td>0</td>\n",
       "      <td>61</td>\n",
       "      <td>WD</td>\n",
       "      <td>Normal</td>\n",
       "      <td>208500</td>\n",
       "      <td>1</td>\n",
       "      <td>0</td>\n",
       "    </tr>\n",
       "    <tr>\n",
       "      <th>1</th>\n",
       "      <td>2</td>\n",
       "      <td>6</td>\n",
       "      <td>1</td>\n",
       "      <td>1976.0</td>\n",
       "      <td>2</td>\n",
       "      <td>460</td>\n",
       "      <td>80.0</td>\n",
       "      <td>298</td>\n",
       "      <td>0</td>\n",
       "      <td>WD</td>\n",
       "      <td>Normal</td>\n",
       "      <td>181500</td>\n",
       "      <td>1</td>\n",
       "      <td>0</td>\n",
       "    </tr>\n",
       "    <tr>\n",
       "      <th>2</th>\n",
       "      <td>2</td>\n",
       "      <td>6</td>\n",
       "      <td>1</td>\n",
       "      <td>2001.0</td>\n",
       "      <td>2</td>\n",
       "      <td>608</td>\n",
       "      <td>68.0</td>\n",
       "      <td>0</td>\n",
       "      <td>42</td>\n",
       "      <td>WD</td>\n",
       "      <td>Normal</td>\n",
       "      <td>223500</td>\n",
       "      <td>1</td>\n",
       "      <td>0</td>\n",
       "    </tr>\n",
       "    <tr>\n",
       "      <th>3</th>\n",
       "      <td>1</td>\n",
       "      <td>7</td>\n",
       "      <td>1</td>\n",
       "      <td>1998.0</td>\n",
       "      <td>3</td>\n",
       "      <td>642</td>\n",
       "      <td>60.0</td>\n",
       "      <td>0</td>\n",
       "      <td>35</td>\n",
       "      <td>WD</td>\n",
       "      <td>Abnorml</td>\n",
       "      <td>140000</td>\n",
       "      <td>0</td>\n",
       "      <td>0</td>\n",
       "    </tr>\n",
       "    <tr>\n",
       "      <th>4</th>\n",
       "      <td>2</td>\n",
       "      <td>9</td>\n",
       "      <td>1</td>\n",
       "      <td>2000.0</td>\n",
       "      <td>3</td>\n",
       "      <td>836</td>\n",
       "      <td>84.0</td>\n",
       "      <td>192</td>\n",
       "      <td>84</td>\n",
       "      <td>WD</td>\n",
       "      <td>Normal</td>\n",
       "      <td>250000</td>\n",
       "      <td>1</td>\n",
       "      <td>0</td>\n",
       "    </tr>\n",
       "    <tr>\n",
       "      <th>...</th>\n",
       "      <td>...</td>\n",
       "      <td>...</td>\n",
       "      <td>...</td>\n",
       "      <td>...</td>\n",
       "      <td>...</td>\n",
       "      <td>...</td>\n",
       "      <td>...</td>\n",
       "      <td>...</td>\n",
       "      <td>...</td>\n",
       "      <td>...</td>\n",
       "      <td>...</td>\n",
       "      <td>...</td>\n",
       "      <td>...</td>\n",
       "      <td>...</td>\n",
       "    </tr>\n",
       "    <tr>\n",
       "      <th>1455</th>\n",
       "      <td>2</td>\n",
       "      <td>7</td>\n",
       "      <td>1</td>\n",
       "      <td>1999.0</td>\n",
       "      <td>2</td>\n",
       "      <td>460</td>\n",
       "      <td>62.0</td>\n",
       "      <td>0</td>\n",
       "      <td>40</td>\n",
       "      <td>WD</td>\n",
       "      <td>Normal</td>\n",
       "      <td>175000</td>\n",
       "      <td>1</td>\n",
       "      <td>0</td>\n",
       "    </tr>\n",
       "    <tr>\n",
       "      <th>1456</th>\n",
       "      <td>2</td>\n",
       "      <td>7</td>\n",
       "      <td>2</td>\n",
       "      <td>1978.0</td>\n",
       "      <td>2</td>\n",
       "      <td>500</td>\n",
       "      <td>85.0</td>\n",
       "      <td>349</td>\n",
       "      <td>0</td>\n",
       "      <td>WD</td>\n",
       "      <td>Normal</td>\n",
       "      <td>210000</td>\n",
       "      <td>1</td>\n",
       "      <td>0</td>\n",
       "    </tr>\n",
       "    <tr>\n",
       "      <th>1457</th>\n",
       "      <td>2</td>\n",
       "      <td>9</td>\n",
       "      <td>2</td>\n",
       "      <td>1941.0</td>\n",
       "      <td>1</td>\n",
       "      <td>252</td>\n",
       "      <td>66.0</td>\n",
       "      <td>0</td>\n",
       "      <td>60</td>\n",
       "      <td>WD</td>\n",
       "      <td>Normal</td>\n",
       "      <td>266500</td>\n",
       "      <td>1</td>\n",
       "      <td>0</td>\n",
       "    </tr>\n",
       "    <tr>\n",
       "      <th>1458</th>\n",
       "      <td>1</td>\n",
       "      <td>5</td>\n",
       "      <td>0</td>\n",
       "      <td>1950.0</td>\n",
       "      <td>1</td>\n",
       "      <td>240</td>\n",
       "      <td>68.0</td>\n",
       "      <td>366</td>\n",
       "      <td>0</td>\n",
       "      <td>WD</td>\n",
       "      <td>Normal</td>\n",
       "      <td>142125</td>\n",
       "      <td>0</td>\n",
       "      <td>0</td>\n",
       "    </tr>\n",
       "    <tr>\n",
       "      <th>1459</th>\n",
       "      <td>1</td>\n",
       "      <td>6</td>\n",
       "      <td>0</td>\n",
       "      <td>1965.0</td>\n",
       "      <td>1</td>\n",
       "      <td>276</td>\n",
       "      <td>75.0</td>\n",
       "      <td>736</td>\n",
       "      <td>68</td>\n",
       "      <td>WD</td>\n",
       "      <td>Normal</td>\n",
       "      <td>147500</td>\n",
       "      <td>0</td>\n",
       "      <td>0</td>\n",
       "    </tr>\n",
       "  </tbody>\n",
       "</table>\n",
       "<p>1460 rows × 14 columns</p>\n",
       "</div>"
      ],
      "text/plain": [
       "      FullBath  TotRmsAbvGrd  Fireplaces  GarageYrBlt  GarageCars  GarageArea  \\\n",
       "0            2             8           0       2003.0           2         548   \n",
       "1            2             6           1       1976.0           2         460   \n",
       "2            2             6           1       2001.0           2         608   \n",
       "3            1             7           1       1998.0           3         642   \n",
       "4            2             9           1       2000.0           3         836   \n",
       "...        ...           ...         ...          ...         ...         ...   \n",
       "1455         2             7           1       1999.0           2         460   \n",
       "1456         2             7           2       1978.0           2         500   \n",
       "1457         2             9           2       1941.0           1         252   \n",
       "1458         1             5           0       1950.0           1         240   \n",
       "1459         1             6           0       1965.0           1         276   \n",
       "\n",
       "      LotFrontage  WoodDeckSF  OpenPorchSF SaleType SaleCondition  SalePrice  \\\n",
       "0            65.0           0           61       WD        Normal     208500   \n",
       "1            80.0         298            0       WD        Normal     181500   \n",
       "2            68.0           0           42       WD        Normal     223500   \n",
       "3            60.0           0           35       WD       Abnorml     140000   \n",
       "4            84.0         192           84       WD        Normal     250000   \n",
       "...           ...         ...          ...      ...           ...        ...   \n",
       "1455         62.0           0           40       WD        Normal     175000   \n",
       "1456         85.0         349            0       WD        Normal     210000   \n",
       "1457         66.0           0           60       WD        Normal     266500   \n",
       "1458         68.0         366            0       WD        Normal     142125   \n",
       "1459         75.0         736           68       WD        Normal     147500   \n",
       "\n",
       "      SalesPriceTarget  LotFrontage_Outlier  \n",
       "0                    1                    0  \n",
       "1                    1                    0  \n",
       "2                    1                    0  \n",
       "3                    0                    0  \n",
       "4                    1                    0  \n",
       "...                ...                  ...  \n",
       "1455                 1                    0  \n",
       "1456                 1                    0  \n",
       "1457                 1                    0  \n",
       "1458                 0                    0  \n",
       "1459                 0                    0  \n",
       "\n",
       "[1460 rows x 14 columns]"
      ]
     },
     "execution_count": 3452,
     "metadata": {},
     "output_type": "execute_result"
    }
   ],
   "source": [
    "df_subset"
   ]
  },
  {
   "cell_type": "markdown",
   "metadata": {},
   "source": [
    "O código abaixo seleciona as colunas categóricas do DataFrame `df_subset` e cria um novo DataFrame apenas com essas colunas. Além disso, exibe informações sobre o DataFrame resultante:"
   ]
  },
  {
   "cell_type": "code",
   "execution_count": 3453,
   "metadata": {},
   "outputs": [
    {
     "name": "stdout",
     "output_type": "stream",
     "text": [
      "<class 'pandas.core.frame.DataFrame'>\n",
      "RangeIndex: 1460 entries, 0 to 1459\n",
      "Data columns (total 2 columns):\n",
      " #   Column         Non-Null Count  Dtype \n",
      "---  ------         --------------  ----- \n",
      " 0   SaleType       1460 non-null   object\n",
      " 1   SaleCondition  1460 non-null   object\n",
      "dtypes: object(2)\n",
      "memory usage: 22.9+ KB\n",
      "None\n"
     ]
    }
   ],
   "source": [
    "# Criar DataFrame apenas com as colunas categóricas \n",
    "df_categorical = df_subset[df_subset.select_dtypes(include=['object']).columns.tolist()]\n",
    "\n",
    "# Exibir as colunas categóricas selecionadas\n",
    "print(df_categorical.info())"
   ]
  },
  {
   "cell_type": "code",
   "execution_count": 3454,
   "metadata": {},
   "outputs": [
    {
     "data": {
      "text/plain": [
       "(1460, 2)"
      ]
     },
     "execution_count": 3454,
     "metadata": {},
     "output_type": "execute_result"
    }
   ],
   "source": [
    "df_categorical.shape"
   ]
  },
  {
   "cell_type": "markdown",
   "metadata": {},
   "source": [
    "O bloco de código abaixo converte colunas categóricas do tipo `object` para o tipo `category` no DataFrame `df_categorical` para otimização de utilização de memória e exibe informações sobre o resultado:"
   ]
  },
  {
   "cell_type": "code",
   "execution_count": 3455,
   "metadata": {},
   "outputs": [],
   "source": [
    "# Function to display the memory usage in MB for either a) a Pandas DataFrame or b) a Pandas Serie\n",
    "\n",
    "def mem_usage(pandas_obj):\n",
    "    if isinstance(pandas_obj,pd.DataFrame):\n",
    "        usage_b = pandas_obj.memory_usage(deep=True).sum()\n",
    "    else: # we assume if not a df it's a series\n",
    "        usage_b = pandas_obj.memory_usage(deep=True)\n",
    "    usage_mb = usage_b / 1024 ** 2 # convert bytes to megabytes\n",
    "    return \"{:03.4f} MB\".format(usage_mb)"
   ]
  },
  {
   "cell_type": "markdown",
   "metadata": {},
   "source": [
    "Convertendo colunas para o tipo `category` para melhorar a eficiência na utilização de memória e apresentação dos resultados"
   ]
  },
  {
   "cell_type": "code",
   "execution_count": 3456,
   "metadata": {},
   "outputs": [
    {
     "name": "stdout",
     "output_type": "stream",
     "text": [
      "<class 'pandas.core.frame.DataFrame'>\n",
      "RangeIndex: 1460 entries, 0 to 1459\n",
      "Data columns (total 4 columns):\n",
      " #   Column            Non-Null Count  Dtype   \n",
      "---  ------            --------------  -----   \n",
      " 0   SaleType          1460 non-null   object  \n",
      " 1   SaleCondition     1460 non-null   object  \n",
      " 2   SaleTypeCat       1460 non-null   category\n",
      " 3   SaleConditionCat  1460 non-null   category\n",
      "dtypes: category(2), object(2)\n",
      "memory usage: 26.4+ KB\n",
      "*Informação Uso de Memória de Variaveis*\n",
      "UsoSaleType: 0.0714 MB\n",
      "SaleTypeCat: 0.0023 MB\n",
      "SaleCondition: 0.0769 MB\n",
      "SaleConditionCat: 0.0020 MB\n"
     ]
    },
    {
     "name": "stderr",
     "output_type": "stream",
     "text": [
      "C:\\Users\\PereiraRodrigues\\AppData\\Local\\Temp\\ipykernel_7652\\2488068249.py:3: SettingWithCopyWarning: \n",
      "A value is trying to be set on a copy of a slice from a DataFrame.\n",
      "Try using .loc[row_indexer,col_indexer] = value instead\n",
      "\n",
      "See the caveats in the documentation: https://pandas.pydata.org/pandas-docs/stable/user_guide/indexing.html#returning-a-view-versus-a-copy\n",
      "  df_categorical['SaleTypeCat'] = df_categorical['SaleType'].astype('category')\n",
      "C:\\Users\\PereiraRodrigues\\AppData\\Local\\Temp\\ipykernel_7652\\2488068249.py:4: SettingWithCopyWarning: \n",
      "A value is trying to be set on a copy of a slice from a DataFrame.\n",
      "Try using .loc[row_indexer,col_indexer] = value instead\n",
      "\n",
      "See the caveats in the documentation: https://pandas.pydata.org/pandas-docs/stable/user_guide/indexing.html#returning-a-view-versus-a-copy\n",
      "  df_categorical['SaleConditionCat'] = df_categorical['SaleCondition'].astype('category')\n",
      "C:\\Users\\PereiraRodrigues\\AppData\\Local\\Temp\\ipykernel_7652\\2488068249.py:15: SettingWithCopyWarning: \n",
      "A value is trying to be set on a copy of a slice from a DataFrame\n",
      "\n",
      "See the caveats in the documentation: https://pandas.pydata.org/pandas-docs/stable/user_guide/indexing.html#returning-a-view-versus-a-copy\n",
      "  df_categorical.drop(columns=['SaleType', 'SaleCondition'],inplace=True)\n"
     ]
    }
   ],
   "source": [
    "# Criação de variaveis categorizadas, e apresentação de tipo de dados \n",
    "\n",
    "df_categorical['SaleTypeCat'] = df_categorical['SaleType'].astype('category')\n",
    "df_categorical['SaleConditionCat'] = df_categorical['SaleCondition'].astype('category')\n",
    "df_categorical.info()\n",
    "\n",
    "# Apresentar utilização de memória \n",
    "\n",
    "print('*Informação Uso de Memória de Variaveis*')\n",
    "print(f\"UsoSaleType: {mem_usage(df_categorical['SaleType'])}\")\n",
    "print(f\"SaleTypeCat: {mem_usage(df_categorical['SaleTypeCat'])}\")\n",
    "print(f\"SaleCondition: {mem_usage(df_categorical['SaleCondition'])}\")\n",
    "print(f\"SaleConditionCat: {mem_usage(df_categorical['SaleConditionCat'])}\")\n",
    "\n",
    "df_categorical.drop(columns=['SaleType', 'SaleCondition'],inplace=True)\n"
   ]
  },
  {
   "cell_type": "markdown",
   "metadata": {},
   "source": [
    "**4.2- Apply OHE to `SaleType`**"
   ]
  },
  {
   "cell_type": "markdown",
   "metadata": {},
   "source": [
    "---"
   ]
  },
  {
   "cell_type": "markdown",
   "metadata": {},
   "source": [
    "\n",
    "O código abaixo aplica o One-Hot Encoding (OHE) para transformar variáveis categóricas em representações numéricas binárias e depois concatena os resultados ao DataFrame original.\n",
    "\n"
   ]
  },
  {
   "cell_type": "code",
   "execution_count": 3457,
   "metadata": {},
   "outputs": [
    {
     "data": {
      "text/html": [
       "<div>\n",
       "<style scoped>\n",
       "    .dataframe tbody tr th:only-of-type {\n",
       "        vertical-align: middle;\n",
       "    }\n",
       "\n",
       "    .dataframe tbody tr th {\n",
       "        vertical-align: top;\n",
       "    }\n",
       "\n",
       "    .dataframe thead th {\n",
       "        text-align: right;\n",
       "    }\n",
       "</style>\n",
       "<table border=\"1\" class=\"dataframe\">\n",
       "  <thead>\n",
       "    <tr style=\"text-align: right;\">\n",
       "      <th></th>\n",
       "      <th>COD</th>\n",
       "      <th>CWD</th>\n",
       "      <th>Con</th>\n",
       "      <th>ConLD</th>\n",
       "      <th>ConLI</th>\n",
       "      <th>ConLw</th>\n",
       "      <th>New</th>\n",
       "      <th>Oth</th>\n",
       "      <th>WD</th>\n",
       "    </tr>\n",
       "  </thead>\n",
       "  <tbody>\n",
       "    <tr>\n",
       "      <th>244</th>\n",
       "      <td>0.0</td>\n",
       "      <td>0.0</td>\n",
       "      <td>0.0</td>\n",
       "      <td>0.0</td>\n",
       "      <td>0.0</td>\n",
       "      <td>0.0</td>\n",
       "      <td>0.0</td>\n",
       "      <td>0.0</td>\n",
       "      <td>1.0</td>\n",
       "    </tr>\n",
       "    <tr>\n",
       "      <th>1237</th>\n",
       "      <td>0.0</td>\n",
       "      <td>0.0</td>\n",
       "      <td>0.0</td>\n",
       "      <td>0.0</td>\n",
       "      <td>0.0</td>\n",
       "      <td>0.0</td>\n",
       "      <td>0.0</td>\n",
       "      <td>0.0</td>\n",
       "      <td>1.0</td>\n",
       "    </tr>\n",
       "    <tr>\n",
       "      <th>218</th>\n",
       "      <td>0.0</td>\n",
       "      <td>0.0</td>\n",
       "      <td>0.0</td>\n",
       "      <td>0.0</td>\n",
       "      <td>0.0</td>\n",
       "      <td>0.0</td>\n",
       "      <td>0.0</td>\n",
       "      <td>0.0</td>\n",
       "      <td>1.0</td>\n",
       "    </tr>\n",
       "    <tr>\n",
       "      <th>104</th>\n",
       "      <td>0.0</td>\n",
       "      <td>0.0</td>\n",
       "      <td>0.0</td>\n",
       "      <td>0.0</td>\n",
       "      <td>0.0</td>\n",
       "      <td>0.0</td>\n",
       "      <td>0.0</td>\n",
       "      <td>0.0</td>\n",
       "      <td>1.0</td>\n",
       "    </tr>\n",
       "    <tr>\n",
       "      <th>277</th>\n",
       "      <td>0.0</td>\n",
       "      <td>0.0</td>\n",
       "      <td>0.0</td>\n",
       "      <td>0.0</td>\n",
       "      <td>0.0</td>\n",
       "      <td>0.0</td>\n",
       "      <td>0.0</td>\n",
       "      <td>0.0</td>\n",
       "      <td>1.0</td>\n",
       "    </tr>\n",
       "    <tr>\n",
       "      <th>670</th>\n",
       "      <td>0.0</td>\n",
       "      <td>0.0</td>\n",
       "      <td>0.0</td>\n",
       "      <td>0.0</td>\n",
       "      <td>0.0</td>\n",
       "      <td>0.0</td>\n",
       "      <td>0.0</td>\n",
       "      <td>0.0</td>\n",
       "      <td>1.0</td>\n",
       "    </tr>\n",
       "    <tr>\n",
       "      <th>83</th>\n",
       "      <td>1.0</td>\n",
       "      <td>0.0</td>\n",
       "      <td>0.0</td>\n",
       "      <td>0.0</td>\n",
       "      <td>0.0</td>\n",
       "      <td>0.0</td>\n",
       "      <td>0.0</td>\n",
       "      <td>0.0</td>\n",
       "      <td>0.0</td>\n",
       "    </tr>\n",
       "    <tr>\n",
       "      <th>1368</th>\n",
       "      <td>0.0</td>\n",
       "      <td>0.0</td>\n",
       "      <td>0.0</td>\n",
       "      <td>0.0</td>\n",
       "      <td>0.0</td>\n",
       "      <td>0.0</td>\n",
       "      <td>0.0</td>\n",
       "      <td>0.0</td>\n",
       "      <td>1.0</td>\n",
       "    </tr>\n",
       "    <tr>\n",
       "      <th>1406</th>\n",
       "      <td>0.0</td>\n",
       "      <td>0.0</td>\n",
       "      <td>0.0</td>\n",
       "      <td>0.0</td>\n",
       "      <td>0.0</td>\n",
       "      <td>0.0</td>\n",
       "      <td>0.0</td>\n",
       "      <td>0.0</td>\n",
       "      <td>1.0</td>\n",
       "    </tr>\n",
       "    <tr>\n",
       "      <th>120</th>\n",
       "      <td>0.0</td>\n",
       "      <td>0.0</td>\n",
       "      <td>0.0</td>\n",
       "      <td>0.0</td>\n",
       "      <td>0.0</td>\n",
       "      <td>0.0</td>\n",
       "      <td>0.0</td>\n",
       "      <td>0.0</td>\n",
       "      <td>1.0</td>\n",
       "    </tr>\n",
       "    <tr>\n",
       "      <th>156</th>\n",
       "      <td>0.0</td>\n",
       "      <td>0.0</td>\n",
       "      <td>0.0</td>\n",
       "      <td>0.0</td>\n",
       "      <td>0.0</td>\n",
       "      <td>0.0</td>\n",
       "      <td>0.0</td>\n",
       "      <td>0.0</td>\n",
       "      <td>1.0</td>\n",
       "    </tr>\n",
       "    <tr>\n",
       "      <th>1105</th>\n",
       "      <td>0.0</td>\n",
       "      <td>0.0</td>\n",
       "      <td>0.0</td>\n",
       "      <td>0.0</td>\n",
       "      <td>0.0</td>\n",
       "      <td>0.0</td>\n",
       "      <td>0.0</td>\n",
       "      <td>0.0</td>\n",
       "      <td>1.0</td>\n",
       "    </tr>\n",
       "    <tr>\n",
       "      <th>8</th>\n",
       "      <td>0.0</td>\n",
       "      <td>0.0</td>\n",
       "      <td>0.0</td>\n",
       "      <td>0.0</td>\n",
       "      <td>0.0</td>\n",
       "      <td>0.0</td>\n",
       "      <td>0.0</td>\n",
       "      <td>0.0</td>\n",
       "      <td>1.0</td>\n",
       "    </tr>\n",
       "    <tr>\n",
       "      <th>1043</th>\n",
       "      <td>0.0</td>\n",
       "      <td>0.0</td>\n",
       "      <td>0.0</td>\n",
       "      <td>0.0</td>\n",
       "      <td>0.0</td>\n",
       "      <td>0.0</td>\n",
       "      <td>0.0</td>\n",
       "      <td>0.0</td>\n",
       "      <td>1.0</td>\n",
       "    </tr>\n",
       "    <tr>\n",
       "      <th>1286</th>\n",
       "      <td>0.0</td>\n",
       "      <td>0.0</td>\n",
       "      <td>0.0</td>\n",
       "      <td>0.0</td>\n",
       "      <td>0.0</td>\n",
       "      <td>0.0</td>\n",
       "      <td>0.0</td>\n",
       "      <td>0.0</td>\n",
       "      <td>1.0</td>\n",
       "    </tr>\n",
       "  </tbody>\n",
       "</table>\n",
       "</div>"
      ],
      "text/plain": [
       "      COD  CWD  Con  ConLD  ConLI  ConLw  New  Oth   WD\n",
       "244   0.0  0.0  0.0    0.0    0.0    0.0  0.0  0.0  1.0\n",
       "1237  0.0  0.0  0.0    0.0    0.0    0.0  0.0  0.0  1.0\n",
       "218   0.0  0.0  0.0    0.0    0.0    0.0  0.0  0.0  1.0\n",
       "104   0.0  0.0  0.0    0.0    0.0    0.0  0.0  0.0  1.0\n",
       "277   0.0  0.0  0.0    0.0    0.0    0.0  0.0  0.0  1.0\n",
       "670   0.0  0.0  0.0    0.0    0.0    0.0  0.0  0.0  1.0\n",
       "83    1.0  0.0  0.0    0.0    0.0    0.0  0.0  0.0  0.0\n",
       "1368  0.0  0.0  0.0    0.0    0.0    0.0  0.0  0.0  1.0\n",
       "1406  0.0  0.0  0.0    0.0    0.0    0.0  0.0  0.0  1.0\n",
       "120   0.0  0.0  0.0    0.0    0.0    0.0  0.0  0.0  1.0\n",
       "156   0.0  0.0  0.0    0.0    0.0    0.0  0.0  0.0  1.0\n",
       "1105  0.0  0.0  0.0    0.0    0.0    0.0  0.0  0.0  1.0\n",
       "8     0.0  0.0  0.0    0.0    0.0    0.0  0.0  0.0  1.0\n",
       "1043  0.0  0.0  0.0    0.0    0.0    0.0  0.0  0.0  1.0\n",
       "1286  0.0  0.0  0.0    0.0    0.0    0.0  0.0  0.0  1.0"
      ]
     },
     "execution_count": 3457,
     "metadata": {},
     "output_type": "execute_result"
    }
   ],
   "source": [
    "# Inicializar o OneHotEncoder\n",
    "ohe = OneHotEncoder(sparse_output=False)  \n",
    "\n",
    "# Ajustar o encoder e transformar os dados\n",
    "salestype_ohe = ohe.fit_transform(df_categorical[['SaleTypeCat']])\n",
    "\n",
    "# Criar um DataFrame com os resultados do OHE\n",
    "ohe_df = pd.DataFrame(salestype_ohe, columns=list(ohe.categories_[0]))\n",
    "\n",
    "# Concatenar o resultado ao DataFrame original\n",
    "df_categorical = pd.concat([df_categorical, ohe_df], axis=1)\n",
    "\n",
    "df_categorical.drop(columns=['SaleTypeCat', 'SaleConditionCat'],inplace=True)\n",
    "\n",
    "# Exibir 15 linhas aleatórias do DataFrame atualizado para verificar o resultado\n",
    "df_categorical.sample(15)"
   ]
  },
  {
   "cell_type": "markdown",
   "metadata": {},
   "source": [
    "## 5- Feature Scaling"
   ]
  },
  {
   "cell_type": "markdown",
   "metadata": {},
   "source": [
    "**5.1- Apply feature scaling to the variable `GarageArea`. Make sure that the new range fall between `-1/3` and `3`.**"
   ]
  },
  {
   "cell_type": "markdown",
   "metadata": {},
   "source": [
    "---"
   ]
  },
  {
   "cell_type": "markdown",
   "metadata": {},
   "source": [
    "O método `.describe()` do pandas para apresentar algumas estatísticas descritivas e entender as características e a distribuição dos dados para a coluna `GarageArea`\n"
   ]
  },
  {
   "cell_type": "code",
   "execution_count": 3458,
   "metadata": {},
   "outputs": [
    {
     "name": "stdout",
     "output_type": "stream",
     "text": [
      "count    1460.000000\n",
      "mean      472.980137\n",
      "std       213.804841\n",
      "min         0.000000\n",
      "25%       334.500000\n",
      "50%       480.000000\n",
      "75%       576.000000\n",
      "max      1418.000000\n",
      "Name: GarageArea, dtype: float64\n"
     ]
    }
   ],
   "source": [
    "print(df_subset['GarageArea'].describe())\n"
   ]
  },
  {
   "cell_type": "markdown",
   "metadata": {},
   "source": [
    "No código abaixo é utilizado o método `MinMaxScaler` da biblioteca `sklearn` para normalizar uma coluna de um DataFrame, ajustando os valores para o intervalo personalizado requerido no enunciado -1/3 e 3. No final é apresentado os novos valores máximo e minimo da variavel. \n"
   ]
  },
  {
   "cell_type": "code",
   "execution_count": 3459,
   "metadata": {},
   "outputs": [
    {
     "name": "stdout",
     "output_type": "stream",
     "text": [
      "Valores de garagem normalizados, entre : vamor máximo 3.0 e valor minimo -0.3333333333333333  \n"
     ]
    },
    {
     "name": "stderr",
     "output_type": "stream",
     "text": [
      "C:\\Users\\PereiraRodrigues\\AppData\\Local\\Temp\\ipykernel_7652\\2326761728.py:2: SettingWithCopyWarning: \n",
      "A value is trying to be set on a copy of a slice from a DataFrame.\n",
      "Try using .loc[row_indexer,col_indexer] = value instead\n",
      "\n",
      "See the caveats in the documentation: https://pandas.pydata.org/pandas-docs/stable/user_guide/indexing.html#returning-a-view-versus-a-copy\n",
      "  df_subset['GarageAreaNormalized'] = mmscaler.fit_transform(df_subset[['GarageArea']])\n"
     ]
    }
   ],
   "source": [
    "mmscaler = MinMaxScaler(feature_range=(-1/3, 3))\n",
    "df_subset['GarageAreaNormalized'] = mmscaler.fit_transform(df_subset[['GarageArea']])\n",
    "print (f'Valores de garagem normalizados, entre : vamor máximo {df_subset['GarageAreaNormalized'].max()} e valor minimo {df_subset['GarageAreaNormalized'].min()}  ')\n"
   ]
  },
  {
   "cell_type": "markdown",
   "metadata": {},
   "source": [
    "---"
   ]
  },
  {
   "cell_type": "markdown",
   "metadata": {},
   "source": [
    "## End of Part 1"
   ]
  },
  {
   "cell_type": "markdown",
   "metadata": {},
   "source": [
    "---"
   ]
  },
  {
   "cell_type": "markdown",
   "metadata": {},
   "source": [
    "# Part 2"
   ]
  },
  {
   "cell_type": "markdown",
   "metadata": {},
   "source": [
    "### Part 2 - 50% | Scope\n",
    "\n",
    "Part 2 entails a project using the same dataset. The goal is to prove your data preprocessing skills. As output from this project, you should delivery the **notebook with the code you have done**.\n",
    "\n",
    "Please apply, at least, **6 transformations** to the feature set you have in hands (or to the features which makes sense to apply the transformation). Each transformation should be accompanied by an explanation . Last but not least, compare the benefits of such transformation with the baseline score or the last best score. \n",
    "\n",
    "Regarding the variables you have to use throughout the Part 2, there are 6 in the total, 3 of them you are free to choose while the remaining 3 I have picked for you:\n",
    "* YearBuilt\n",
    "* LotFrontage\n",
    "* MasVnrType\n",
    "\n",
    "Make your baseline progressive, i.e. please consider the score from the previous transformation as the new baseline if it shows improvements. Example:\n",
    "\n",
    "    Baseline - subset of transformations [None]  = 60% accuracy\n",
    "    Iteration #1 - subset of transformations [A]     = 64% accuracy -> new baseline\n",
    "    Iteration #2 - subset of transformations [A,B]   = 63% accuracy    (future scaling, ou imputação, ou, pelo menos 6 transformações)\n",
    "    Iteration #3 - subset of transformations [A,B,C] = 68% accuracy -> new baseline\n",
    "    ...\n",
    "    Iteration #N - subset of transformations [A,B,C,..., N]\n",
    "    (Being A, B, C a transformation that uses 1 or N features.)\n",
    "\n",
    "Transformation example: encoding `color` & `country` with `One-Hot-Encoding`.\n",
    "\n",
    "The `target` variable should be used to compute the accuracy (please use the `Target` you have created on the exercise 2.1, part1).\n"
   ]
  },
  {
   "cell_type": "markdown",
   "metadata": {},
   "source": [
    "Remark:\n",
    "* you shall use 6 variable for the assessment\n",
    "* 3 out of 6 features are designated in the section on the top of the notebook\n",
    "* the 3 remaining variables are up to you to choose\n",
    "* you can consider any variable from the original dataset during this assessment\n",
    "\n",
    "Above all, take this opportunity to practice :)\n",
    "\n",
    "**Good luck!**"
   ]
  },
  {
   "cell_type": "markdown",
   "metadata": {},
   "source": [
    "---"
   ]
  },
  {
   "cell_type": "markdown",
   "metadata": {},
   "source": [
    "### 2.1 Importação de Informação Adicional para o dataframe parte 1\n",
    "\n",
    "No código abaixo, a fonte de dados inicial é lida novamente para obter a informação relativa às colunas `yearbuilt` e `MasVnrType`, conforme requerido no enunciado, já que estas não estavam incluídas na lista de colunas da parte 1 do trabalho. Após obter os dados no dataframe df2, os valores destas variáveis são copiados para o dataframe proveniente da parte 1 do trabalho."
   ]
  },
  {
   "cell_type": "code",
   "execution_count": 3460,
   "metadata": {},
   "outputs": [
    {
     "data": {
      "text/plain": [
       "['FullBath',\n",
       " 'TotRmsAbvGrd',\n",
       " 'Fireplaces',\n",
       " 'GarageYrBlt',\n",
       " 'GarageCars',\n",
       " 'GarageArea',\n",
       " 'LotFrontage',\n",
       " 'WoodDeckSF',\n",
       " 'OpenPorchSF',\n",
       " 'SaleType',\n",
       " 'SaleCondition',\n",
       " 'SalePrice',\n",
       " 'YearBuilt',\n",
       " 'MasVnrType']"
      ]
     },
     "execution_count": 3460,
     "metadata": {},
     "output_type": "execute_result"
    }
   ],
   "source": [
    "df2 = pd.read_csv('data/house_prices_final_project.csv')\n",
    "columns_list.extend(['YearBuilt', 'MasVnrType'])\n",
    "columns_list"
   ]
  },
  {
   "cell_type": "code",
   "execution_count": 3461,
   "metadata": {},
   "outputs": [
    {
     "name": "stdout",
     "output_type": "stream",
     "text": [
      "      FullBath  TotRmsAbvGrd  Fireplaces  GarageYrBlt  GarageCars  GarageArea  \\\n",
      "206          1             8           1       1962.0           1         349   \n",
      "1317         2             5           1       2006.0           2         466   \n",
      "276          2             7           0       2003.0           2         573   \n",
      "1303         2             7           0       2005.0           3         834   \n",
      "16           1             5           1       1970.0           2         480   \n",
      "322          2             8           1       1987.0           2         576   \n",
      "1123         1             4           0          NaN           0           0   \n",
      "468          2             7           1       2006.0           3         866   \n",
      "365          1             6           0       1964.0           1         468   \n",
      "940          2             8           0       1976.0           2         574   \n",
      "\n",
      "      LotFrontage  WoodDeckSF  OpenPorchSF SaleType SaleCondition  SalePrice  \\\n",
      "206          40.0           0           30       WD        Normal     143900   \n",
      "1317         47.0           0          241      New       Partial     208900   \n",
      "276         129.0         100          150       WD        Normal     201000   \n",
      "1303         73.0         208           59       WD        Normal     232000   \n",
      "16            NaN           0            0       WD        Normal     149000   \n",
      "322          86.0         201           96       WD        Normal     301000   \n",
      "1123         50.0           0          200       WD        Normal     118000   \n",
      "468          98.0           0           44       WD        Normal     250000   \n",
      "365          59.0           0          128       WD        Normal     147000   \n",
      "940          55.0          40            0       WD        Normal     150900   \n",
      "\n",
      "      YearBuilt MasVnrType  \n",
      "206        1962        NaN  \n",
      "1317       2006        NaN  \n",
      "276        2003        NaN  \n",
      "1303       2005    BrkFace  \n",
      "16         1970    BrkFace  \n",
      "322        1986    BrkFace  \n",
      "1123       1947        NaN  \n",
      "468        2006      Stone  \n",
      "365        1920        NaN  \n",
      "940        1976        NaN  \n"
     ]
    },
    {
     "name": "stderr",
     "output_type": "stream",
     "text": [
      "C:\\Users\\PereiraRodrigues\\AppData\\Local\\Temp\\ipykernel_7652\\3519457713.py:4: SettingWithCopyWarning: \n",
      "A value is trying to be set on a copy of a slice from a DataFrame.\n",
      "Try using .loc[row_indexer,col_indexer] = value instead\n",
      "\n",
      "See the caveats in the documentation: https://pandas.pydata.org/pandas-docs/stable/user_guide/indexing.html#returning-a-view-versus-a-copy\n",
      "  df_subset[['YearBuilt', 'MasVnrType']] = df_subsetpt2[['YearBuilt', 'MasVnrType']].copy()\n",
      "C:\\Users\\PereiraRodrigues\\AppData\\Local\\Temp\\ipykernel_7652\\3519457713.py:4: SettingWithCopyWarning: \n",
      "A value is trying to be set on a copy of a slice from a DataFrame.\n",
      "Try using .loc[row_indexer,col_indexer] = value instead\n",
      "\n",
      "See the caveats in the documentation: https://pandas.pydata.org/pandas-docs/stable/user_guide/indexing.html#returning-a-view-versus-a-copy\n",
      "  df_subset[['YearBuilt', 'MasVnrType']] = df_subsetpt2[['YearBuilt', 'MasVnrType']].copy()\n"
     ]
    }
   ],
   "source": [
    "# Criar um DataFrame com o subconjunto de colunas necessárias e copiar os valores das duas colunas adicionais para o DataFrame inicial.\n",
    "df_subsetpt2 = df2[columns_list]\n",
    "print(df_subsetpt2.sample(10))\n",
    "df_subset[['YearBuilt', 'MasVnrType']] = df_subsetpt2[['YearBuilt', 'MasVnrType']].copy()"
   ]
  },
  {
   "cell_type": "markdown",
   "metadata": {},
   "source": [
    "Apresentar amostra aleatória de 10 linhas do DataFrame `df_subset` utilizado como dataset base para criação do baseline  "
   ]
  },
  {
   "cell_type": "code",
   "execution_count": 3462,
   "metadata": {},
   "outputs": [
    {
     "data": {
      "text/html": [
       "<div>\n",
       "<style scoped>\n",
       "    .dataframe tbody tr th:only-of-type {\n",
       "        vertical-align: middle;\n",
       "    }\n",
       "\n",
       "    .dataframe tbody tr th {\n",
       "        vertical-align: top;\n",
       "    }\n",
       "\n",
       "    .dataframe thead th {\n",
       "        text-align: right;\n",
       "    }\n",
       "</style>\n",
       "<table border=\"1\" class=\"dataframe\">\n",
       "  <thead>\n",
       "    <tr style=\"text-align: right;\">\n",
       "      <th></th>\n",
       "      <th>FullBath</th>\n",
       "      <th>TotRmsAbvGrd</th>\n",
       "      <th>Fireplaces</th>\n",
       "      <th>GarageYrBlt</th>\n",
       "      <th>GarageCars</th>\n",
       "      <th>GarageArea</th>\n",
       "      <th>LotFrontage</th>\n",
       "      <th>WoodDeckSF</th>\n",
       "      <th>OpenPorchSF</th>\n",
       "      <th>SaleType</th>\n",
       "      <th>SaleCondition</th>\n",
       "      <th>SalePrice</th>\n",
       "      <th>SalesPriceTarget</th>\n",
       "      <th>LotFrontage_Outlier</th>\n",
       "      <th>GarageAreaNormalized</th>\n",
       "      <th>YearBuilt</th>\n",
       "      <th>MasVnrType</th>\n",
       "    </tr>\n",
       "  </thead>\n",
       "  <tbody>\n",
       "    <tr>\n",
       "      <th>934</th>\n",
       "      <td>2</td>\n",
       "      <td>9</td>\n",
       "      <td>1</td>\n",
       "      <td>1960.0</td>\n",
       "      <td>2</td>\n",
       "      <td>505</td>\n",
       "      <td>313.0</td>\n",
       "      <td>0</td>\n",
       "      <td>0</td>\n",
       "      <td>WD</td>\n",
       "      <td>Normal</td>\n",
       "      <td>242000</td>\n",
       "      <td>1</td>\n",
       "      <td>1</td>\n",
       "      <td>0.853785</td>\n",
       "      <td>1960</td>\n",
       "      <td>NaN</td>\n",
       "    </tr>\n",
       "    <tr>\n",
       "      <th>353</th>\n",
       "      <td>1</td>\n",
       "      <td>5</td>\n",
       "      <td>0</td>\n",
       "      <td>2005.0</td>\n",
       "      <td>2</td>\n",
       "      <td>484</td>\n",
       "      <td>60.0</td>\n",
       "      <td>106</td>\n",
       "      <td>0</td>\n",
       "      <td>WD</td>\n",
       "      <td>Normal</td>\n",
       "      <td>105900</td>\n",
       "      <td>0</td>\n",
       "      <td>0</td>\n",
       "      <td>0.804419</td>\n",
       "      <td>1928</td>\n",
       "      <td>NaN</td>\n",
       "    </tr>\n",
       "    <tr>\n",
       "      <th>292</th>\n",
       "      <td>1</td>\n",
       "      <td>8</td>\n",
       "      <td>1</td>\n",
       "      <td>1949.0</td>\n",
       "      <td>1</td>\n",
       "      <td>281</td>\n",
       "      <td>60.0</td>\n",
       "      <td>0</td>\n",
       "      <td>0</td>\n",
       "      <td>WD</td>\n",
       "      <td>Normal</td>\n",
       "      <td>131000</td>\n",
       "      <td>0</td>\n",
       "      <td>0</td>\n",
       "      <td>0.327221</td>\n",
       "      <td>1949</td>\n",
       "      <td>NaN</td>\n",
       "    </tr>\n",
       "    <tr>\n",
       "      <th>1411</th>\n",
       "      <td>1</td>\n",
       "      <td>6</td>\n",
       "      <td>0</td>\n",
       "      <td>1950.0</td>\n",
       "      <td>1</td>\n",
       "      <td>271</td>\n",
       "      <td>80.0</td>\n",
       "      <td>0</td>\n",
       "      <td>0</td>\n",
       "      <td>WD</td>\n",
       "      <td>Normal</td>\n",
       "      <td>140000</td>\n",
       "      <td>0</td>\n",
       "      <td>0</td>\n",
       "      <td>0.303714</td>\n",
       "      <td>1950</td>\n",
       "      <td>NaN</td>\n",
       "    </tr>\n",
       "    <tr>\n",
       "      <th>19</th>\n",
       "      <td>1</td>\n",
       "      <td>6</td>\n",
       "      <td>0</td>\n",
       "      <td>1958.0</td>\n",
       "      <td>1</td>\n",
       "      <td>294</td>\n",
       "      <td>70.0</td>\n",
       "      <td>0</td>\n",
       "      <td>0</td>\n",
       "      <td>COD</td>\n",
       "      <td>Abnorml</td>\n",
       "      <td>139000</td>\n",
       "      <td>0</td>\n",
       "      <td>0</td>\n",
       "      <td>0.357781</td>\n",
       "      <td>1958</td>\n",
       "      <td>NaN</td>\n",
       "    </tr>\n",
       "    <tr>\n",
       "      <th>1275</th>\n",
       "      <td>2</td>\n",
       "      <td>10</td>\n",
       "      <td>0</td>\n",
       "      <td>1948.0</td>\n",
       "      <td>2</td>\n",
       "      <td>400</td>\n",
       "      <td>95.0</td>\n",
       "      <td>0</td>\n",
       "      <td>0</td>\n",
       "      <td>WD</td>\n",
       "      <td>Normal</td>\n",
       "      <td>137000</td>\n",
       "      <td>0</td>\n",
       "      <td>0</td>\n",
       "      <td>0.606958</td>\n",
       "      <td>1948</td>\n",
       "      <td>Stone</td>\n",
       "    </tr>\n",
       "    <tr>\n",
       "      <th>326</th>\n",
       "      <td>1</td>\n",
       "      <td>6</td>\n",
       "      <td>2</td>\n",
       "      <td>1993.0</td>\n",
       "      <td>2</td>\n",
       "      <td>473</td>\n",
       "      <td>32.0</td>\n",
       "      <td>122</td>\n",
       "      <td>30</td>\n",
       "      <td>Con</td>\n",
       "      <td>Normal</td>\n",
       "      <td>324000</td>\n",
       "      <td>1</td>\n",
       "      <td>0</td>\n",
       "      <td>0.778561</td>\n",
       "      <td>1993</td>\n",
       "      <td>NaN</td>\n",
       "    </tr>\n",
       "    <tr>\n",
       "      <th>244</th>\n",
       "      <td>2</td>\n",
       "      <td>8</td>\n",
       "      <td>2</td>\n",
       "      <td>1994.0</td>\n",
       "      <td>2</td>\n",
       "      <td>463</td>\n",
       "      <td>69.0</td>\n",
       "      <td>0</td>\n",
       "      <td>130</td>\n",
       "      <td>WD</td>\n",
       "      <td>Normal</td>\n",
       "      <td>205000</td>\n",
       "      <td>1</td>\n",
       "      <td>0</td>\n",
       "      <td>0.755054</td>\n",
       "      <td>1994</td>\n",
       "      <td>NaN</td>\n",
       "    </tr>\n",
       "    <tr>\n",
       "      <th>820</th>\n",
       "      <td>2</td>\n",
       "      <td>6</td>\n",
       "      <td>0</td>\n",
       "      <td>2003.0</td>\n",
       "      <td>2</td>\n",
       "      <td>595</td>\n",
       "      <td>72.0</td>\n",
       "      <td>0</td>\n",
       "      <td>45</td>\n",
       "      <td>WD</td>\n",
       "      <td>Normal</td>\n",
       "      <td>183000</td>\n",
       "      <td>1</td>\n",
       "      <td>0</td>\n",
       "      <td>1.065350</td>\n",
       "      <td>2003</td>\n",
       "      <td>NaN</td>\n",
       "    </tr>\n",
       "    <tr>\n",
       "      <th>674</th>\n",
       "      <td>1</td>\n",
       "      <td>5</td>\n",
       "      <td>1</td>\n",
       "      <td>1965.0</td>\n",
       "      <td>1</td>\n",
       "      <td>384</td>\n",
       "      <td>80.0</td>\n",
       "      <td>426</td>\n",
       "      <td>0</td>\n",
       "      <td>WD</td>\n",
       "      <td>Normal</td>\n",
       "      <td>140000</td>\n",
       "      <td>0</td>\n",
       "      <td>0</td>\n",
       "      <td>0.569346</td>\n",
       "      <td>1965</td>\n",
       "      <td>NaN</td>\n",
       "    </tr>\n",
       "  </tbody>\n",
       "</table>\n",
       "</div>"
      ],
      "text/plain": [
       "      FullBath  TotRmsAbvGrd  Fireplaces  GarageYrBlt  GarageCars  GarageArea  \\\n",
       "934          2             9           1       1960.0           2         505   \n",
       "353          1             5           0       2005.0           2         484   \n",
       "292          1             8           1       1949.0           1         281   \n",
       "1411         1             6           0       1950.0           1         271   \n",
       "19           1             6           0       1958.0           1         294   \n",
       "1275         2            10           0       1948.0           2         400   \n",
       "326          1             6           2       1993.0           2         473   \n",
       "244          2             8           2       1994.0           2         463   \n",
       "820          2             6           0       2003.0           2         595   \n",
       "674          1             5           1       1965.0           1         384   \n",
       "\n",
       "      LotFrontage  WoodDeckSF  OpenPorchSF SaleType SaleCondition  SalePrice  \\\n",
       "934         313.0           0            0       WD        Normal     242000   \n",
       "353          60.0         106            0       WD        Normal     105900   \n",
       "292          60.0           0            0       WD        Normal     131000   \n",
       "1411         80.0           0            0       WD        Normal     140000   \n",
       "19           70.0           0            0      COD       Abnorml     139000   \n",
       "1275         95.0           0            0       WD        Normal     137000   \n",
       "326          32.0         122           30      Con        Normal     324000   \n",
       "244          69.0           0          130       WD        Normal     205000   \n",
       "820          72.0           0           45       WD        Normal     183000   \n",
       "674          80.0         426            0       WD        Normal     140000   \n",
       "\n",
       "      SalesPriceTarget  LotFrontage_Outlier  GarageAreaNormalized  YearBuilt  \\\n",
       "934                  1                    1              0.853785       1960   \n",
       "353                  0                    0              0.804419       1928   \n",
       "292                  0                    0              0.327221       1949   \n",
       "1411                 0                    0              0.303714       1950   \n",
       "19                   0                    0              0.357781       1958   \n",
       "1275                 0                    0              0.606958       1948   \n",
       "326                  1                    0              0.778561       1993   \n",
       "244                  1                    0              0.755054       1994   \n",
       "820                  1                    0              1.065350       2003   \n",
       "674                  0                    0              0.569346       1965   \n",
       "\n",
       "     MasVnrType  \n",
       "934         NaN  \n",
       "353         NaN  \n",
       "292         NaN  \n",
       "1411        NaN  \n",
       "19          NaN  \n",
       "1275      Stone  \n",
       "326         NaN  \n",
       "244         NaN  \n",
       "820         NaN  \n",
       "674         NaN  "
      ]
     },
     "execution_count": 3462,
     "metadata": {},
     "output_type": "execute_result"
    }
   ],
   "source": [
    "df_subset.sample(10)"
   ]
  },
  {
   "cell_type": "markdown",
   "metadata": {},
   "source": [
    "### 2.1 Construção Baseline Inicial\n",
    "\n",
    "\n",
    "\n"
   ]
  },
  {
   "cell_type": "markdown",
   "metadata": {},
   "source": [
    "Abaixo são definidas as variaveis pre selecionadas no enunciado"
   ]
  },
  {
   "cell_type": "code",
   "execution_count": 3463,
   "metadata": {},
   "outputs": [],
   "source": [
    "# initial features pre-selected\n",
    "preselected_features = ['LotFrontage','MasVnrType','YearBuilt']"
   ]
  },
  {
   "cell_type": "markdown",
   "metadata": {},
   "source": [
    "Abaixo é criado uma função plot_correlation_heatmap  utilizada para gerar um heatmap que visualiza uma matriz de correlação entre as possíveis variáveis numéricas e a variável target. O objetivo é auxiliar na seleção de variáveis numéricas que possam contribuir para melhorar a performance do modelo previsão da variavel target"
   ]
  },
  {
   "cell_type": "code",
   "execution_count": 3464,
   "metadata": {},
   "outputs": [],
   "source": [
    "def plot_correlation_heatmap(corr_matrix, title='Heatmap of Pearson Correlation', cmap=\"coolwarm\", vmin=-1, vmax=1):\n",
    "    \"\"\"\n",
    "    Gera um heatmap para visualizar a matriz de correlação.\n",
    "\n",
    "    Parâmetros:\n",
    "        corr_matrix (DataFrame ou ndarray): Matriz de correlação a ser visualizada.\n",
    "        title (str): Título do heatmap (o padrão é 'Heatmap of Pearson Correlation').\n",
    "        cmap (str): Paleta de cores a ser usada no heatmap (o padrão é 'coolwarm').\n",
    "        vmin (float): Valor mínimo da escala de cores (o padrão é -1).\n",
    "        vmax (float): Valor máximo da escala de cores (o padrão é 1).\n",
    "    \"\"\"\n",
    "    # Calcular a máscara para a parte superior da matriz\n",
    "    mask = np.triu(np.ones_like(corr_matrix, dtype=bool))\n",
    "\n",
    "    # Criar o heatmap\n",
    "    sns.heatmap(\n",
    "        corr_matrix,\n",
    "        annot=True,\n",
    "        cmap=cmap,\n",
    "        vmin=vmin,\n",
    "        vmax=vmax,\n",
    "        mask=mask\n",
    "    )\n",
    "\n",
    "    # Adicionar o título\n",
    "    plt.title(title)\n",
    "    plt.show()\n"
   ]
  },
  {
   "cell_type": "markdown",
   "metadata": {},
   "source": [
    "É criado um dataframe de possiveis variaveis numericas, onde são excluidas as variaveis preselecionadas."
   ]
  },
  {
   "cell_type": "code",
   "execution_count": 3465,
   "metadata": {},
   "outputs": [
    {
     "name": "stderr",
     "output_type": "stream",
     "text": [
      "C:\\Users\\PereiraRodrigues\\AppData\\Roaming\\Python\\Python313\\site-packages\\IPython\\core\\displayhook.py:281: UserWarning: Output cache limit (currently 1000 entries) hit.\n",
      "Flushing oldest 200 entries.\n",
      "  warn('Output cache limit (currently {sz} entries) hit.\\n'\n"
     ]
    },
    {
     "data": {
      "text/plain": [
       "FullBath         0\n",
       "TotRmsAbvGrd     0\n",
       "Fireplaces       0\n",
       "GarageYrBlt     81\n",
       "GarageCars       0\n",
       "GarageArea       0\n",
       "WoodDeckSF       0\n",
       "OpenPorchSF      0\n",
       "SalePrice        0\n",
       "dtype: int64"
      ]
     },
     "execution_count": 3465,
     "metadata": {},
     "output_type": "execute_result"
    }
   ],
   "source": [
    "#Choose features\n",
    "feature_seletor_df = df2[columns_list]\n",
    "feature_seletor_df = feature_seletor_df.drop(preselected_features, axis=1)\n",
    "numerical_features = feature_seletor_df.select_dtypes(include='number')\n",
    "# Check for missing values\n",
    "missing_values = numerical_features.isnull().sum()\n",
    "missing_values\n"
   ]
  },
  {
   "cell_type": "markdown",
   "metadata": {},
   "source": [
    "Não tendo a certeza sobre a relação entre as variaveis selecionadas, decidi testar ambos os cenários para cobrir relações lineares (Pearson) e monotónicas (Spearman). Abaixo é feito o teste para ambos os cenários utilizando a função Corr() disponivel na biblioteca pandas."
   ]
  },
  {
   "cell_type": "code",
   "execution_count": 3466,
   "metadata": {},
   "outputs": [],
   "source": [
    "#Calculate the Pearson correlation\n",
    "corr_pearson = numerical_features.corr(method='pearson')\n",
    "#Calculate the Spearman correlation\n",
    "corr_spearman = numerical_features.corr(method='spearman')"
   ]
  },
  {
   "cell_type": "markdown",
   "metadata": {},
   "source": [
    "Abaixo  a função `plot_correlation_heatmap` é invocada passando as matrizes de correlação calculadas no ponto anterior de forma a  criar uma visualização do tipo heatmap.\n"
   ]
  },
  {
   "cell_type": "code",
   "execution_count": 3467,
   "metadata": {},
   "outputs": [
    {
     "data": {
      "image/png": "[encoded data removed]",
      "text/plain": [
       "<Figure size 640x480 with 2 Axes>"
      ]
     },
     "metadata": {},
     "output_type": "display_data"
    }
   ],
   "source": [
    "plot_correlation_heatmap(corr_pearson,'Heatmap of Pearson Correlation',\"coolwarm\", -1, 1)"
   ]
  },
  {
   "cell_type": "code",
   "execution_count": 3468,
   "metadata": {},
   "outputs": [
    {
     "data": {
      "image/png": "[encoded data removed]",
      "text/plain": [
       "<Figure size 640x480 with 2 Axes>"
      ]
     },
     "metadata": {},
     "output_type": "display_data"
    }
   ],
   "source": [
    "plot_correlation_heatmap(corr_spearman,'Heatmap of Pearson Correlation',\"coolwarm\", -1, 1)"
   ]
  },
  {
   "cell_type": "markdown",
   "metadata": {},
   "source": [
    "pós analisar ambos os gráficos acima, verifico que as variáveis `GarageCars e GarageArea` apresentam um nível de correlação que pode contribuir para explicar a variável preço. A terceira variável selecionada será `SalesCondition`, por se tratar de uma variável categórica, considerando a necessidade de explorar diferentes transformações, mesmo que esta possa não contribuir diretamente para a explicação do preço."
   ]
  },
  {
   "cell_type": "markdown",
   "metadata": {},
   "source": [
    "No código abaixo, é construída a baseline inicial, selecionando as variáveis iniciais, incluindo as três variáveis definidas no enunciado. Primeiro, é definida a lista de variáveis mencionadas no enunciado (`YearBuilt`, `LotFrontage` e `MasVnrType`). Em seguida, utiliza-se o método extend() para adicionar as variáveis escolhidas por mim (`SaleCondition`, `GarageArea` e `GarageCars`), bem como a variável target da parte 1, ponto 2.1 `SalesPriceTarget`, à lista de features. Por fim, é criado um novo DataFrame, df_subsetpt2, com base no subconjunto de colunas selecionadas."
   ]
  },
  {
   "cell_type": "code",
   "execution_count": 3469,
   "metadata": {},
   "outputs": [
    {
     "data": {
      "text/html": [
       "<div>\n",
       "<style scoped>\n",
       "    .dataframe tbody tr th:only-of-type {\n",
       "        vertical-align: middle;\n",
       "    }\n",
       "\n",
       "    .dataframe tbody tr th {\n",
       "        vertical-align: top;\n",
       "    }\n",
       "\n",
       "    .dataframe thead th {\n",
       "        text-align: right;\n",
       "    }\n",
       "</style>\n",
       "<table border=\"1\" class=\"dataframe\">\n",
       "  <thead>\n",
       "    <tr style=\"text-align: right;\">\n",
       "      <th></th>\n",
       "      <th>YearBuilt</th>\n",
       "      <th>LotFrontage</th>\n",
       "      <th>MasVnrType</th>\n",
       "      <th>SaleCondition</th>\n",
       "      <th>GarageArea</th>\n",
       "      <th>GarageCars</th>\n",
       "      <th>SalesPriceTarget</th>\n",
       "    </tr>\n",
       "  </thead>\n",
       "  <tbody>\n",
       "    <tr>\n",
       "      <th>0</th>\n",
       "      <td>2003</td>\n",
       "      <td>65.0</td>\n",
       "      <td>BrkFace</td>\n",
       "      <td>Normal</td>\n",
       "      <td>548</td>\n",
       "      <td>2</td>\n",
       "      <td>1</td>\n",
       "    </tr>\n",
       "    <tr>\n",
       "      <th>1</th>\n",
       "      <td>1976</td>\n",
       "      <td>80.0</td>\n",
       "      <td>NaN</td>\n",
       "      <td>Normal</td>\n",
       "      <td>460</td>\n",
       "      <td>2</td>\n",
       "      <td>1</td>\n",
       "    </tr>\n",
       "    <tr>\n",
       "      <th>2</th>\n",
       "      <td>2001</td>\n",
       "      <td>68.0</td>\n",
       "      <td>BrkFace</td>\n",
       "      <td>Normal</td>\n",
       "      <td>608</td>\n",
       "      <td>2</td>\n",
       "      <td>1</td>\n",
       "    </tr>\n",
       "    <tr>\n",
       "      <th>3</th>\n",
       "      <td>1915</td>\n",
       "      <td>60.0</td>\n",
       "      <td>NaN</td>\n",
       "      <td>Abnorml</td>\n",
       "      <td>642</td>\n",
       "      <td>3</td>\n",
       "      <td>0</td>\n",
       "    </tr>\n",
       "    <tr>\n",
       "      <th>4</th>\n",
       "      <td>2000</td>\n",
       "      <td>84.0</td>\n",
       "      <td>BrkFace</td>\n",
       "      <td>Normal</td>\n",
       "      <td>836</td>\n",
       "      <td>3</td>\n",
       "      <td>1</td>\n",
       "    </tr>\n",
       "    <tr>\n",
       "      <th>...</th>\n",
       "      <td>...</td>\n",
       "      <td>...</td>\n",
       "      <td>...</td>\n",
       "      <td>...</td>\n",
       "      <td>...</td>\n",
       "      <td>...</td>\n",
       "      <td>...</td>\n",
       "    </tr>\n",
       "    <tr>\n",
       "      <th>1455</th>\n",
       "      <td>1999</td>\n",
       "      <td>62.0</td>\n",
       "      <td>NaN</td>\n",
       "      <td>Normal</td>\n",
       "      <td>460</td>\n",
       "      <td>2</td>\n",
       "      <td>1</td>\n",
       "    </tr>\n",
       "    <tr>\n",
       "      <th>1456</th>\n",
       "      <td>1978</td>\n",
       "      <td>85.0</td>\n",
       "      <td>Stone</td>\n",
       "      <td>Normal</td>\n",
       "      <td>500</td>\n",
       "      <td>2</td>\n",
       "      <td>1</td>\n",
       "    </tr>\n",
       "    <tr>\n",
       "      <th>1457</th>\n",
       "      <td>1941</td>\n",
       "      <td>66.0</td>\n",
       "      <td>NaN</td>\n",
       "      <td>Normal</td>\n",
       "      <td>252</td>\n",
       "      <td>1</td>\n",
       "      <td>1</td>\n",
       "    </tr>\n",
       "    <tr>\n",
       "      <th>1458</th>\n",
       "      <td>1950</td>\n",
       "      <td>68.0</td>\n",
       "      <td>NaN</td>\n",
       "      <td>Normal</td>\n",
       "      <td>240</td>\n",
       "      <td>1</td>\n",
       "      <td>0</td>\n",
       "    </tr>\n",
       "    <tr>\n",
       "      <th>1459</th>\n",
       "      <td>1965</td>\n",
       "      <td>75.0</td>\n",
       "      <td>NaN</td>\n",
       "      <td>Normal</td>\n",
       "      <td>276</td>\n",
       "      <td>1</td>\n",
       "      <td>0</td>\n",
       "    </tr>\n",
       "  </tbody>\n",
       "</table>\n",
       "<p>1460 rows × 7 columns</p>\n",
       "</div>"
      ],
      "text/plain": [
       "      YearBuilt  LotFrontage MasVnrType SaleCondition  GarageArea  GarageCars  \\\n",
       "0          2003         65.0    BrkFace        Normal         548           2   \n",
       "1          1976         80.0        NaN        Normal         460           2   \n",
       "2          2001         68.0    BrkFace        Normal         608           2   \n",
       "3          1915         60.0        NaN       Abnorml         642           3   \n",
       "4          2000         84.0    BrkFace        Normal         836           3   \n",
       "...         ...          ...        ...           ...         ...         ...   \n",
       "1455       1999         62.0        NaN        Normal         460           2   \n",
       "1456       1978         85.0      Stone        Normal         500           2   \n",
       "1457       1941         66.0        NaN        Normal         252           1   \n",
       "1458       1950         68.0        NaN        Normal         240           1   \n",
       "1459       1965         75.0        NaN        Normal         276           1   \n",
       "\n",
       "      SalesPriceTarget  \n",
       "0                    1  \n",
       "1                    1  \n",
       "2                    1  \n",
       "3                    0  \n",
       "4                    1  \n",
       "...                ...  \n",
       "1455                 1  \n",
       "1456                 1  \n",
       "1457                 1  \n",
       "1458                 0  \n",
       "1459                 0  \n",
       "\n",
       "[1460 rows x 7 columns]"
      ]
     },
     "execution_count": 3469,
     "metadata": {},
     "output_type": "execute_result"
    }
   ],
   "source": [
    "# Select initial features, including the specified ones\n",
    "selected_features = ['YearBuilt', 'LotFrontage', 'MasVnrType']\n",
    "selected_features.extend( ['SaleCondition', 'GarageArea', 'GarageCars','SalesPriceTarget'])\n",
    "df_subsetpt2 = df_subset[selected_features]\n",
    "df_subsetpt2"
   ]
  },
  {
   "cell_type": "markdown",
   "metadata": {},
   "source": [
    "##### 2.1.1 Verificação de valores nulos nas variaveis do baseline\n",
    "\n",
    "O código abaixo é apresenta as variáveis com valores ausentes de forma ordenada. Primeiro, calcula-se o número de valores ausentes para cada coluna do DataFrame df_subsetpt2 utilizando o método isnull().sum(). Em seguida, filtram-se apenas as colunas com valores ausentes (com valores superiores a 0) e ordenam-se de forma descendente utilizando sort_values(ascending=False). Depois, cria-se uma lista formatada n, onde cada entrada inclui o nome da coluna e o respetivo número de valores ausentes. Por fim, os elementos dessa lista são unidos numa única string, separada por quebras de linha, através do método join, e a lista formatada é apresentada com o comando print()."
   ]
  },
  {
   "cell_type": "code",
   "execution_count": 3470,
   "metadata": {},
   "outputs": [],
   "source": [
    "def checkNullDataOnDataframe(dataframe):\n",
    "    \"\"\"\n",
    "    Função para obter variáveis com valores ausentes ordenadas de forma descendente.\n",
    "\n",
    "    Parâmetros:\n",
    "    - dataframe (pd.DataFrame): DataFrame para análise.\n",
    "\n",
    "    Retorna:\n",
    "    - str: String formatada com variáveis e o número de valores ausentes.\n",
    "    \"\"\"\n",
    "    # Obter a contagem de valores ausentes\n",
    "    missing_values = dataframe.isnull().sum()\n",
    "    # Filtrar variáveis com valores ausentes e ordenar\n",
    "    missing_values_sorted = missing_values[missing_values > 0].sort_values(ascending=False)\n",
    "    # Criar lista formatada\n",
    "    missing_values_list = [f\"*   {col}: {val} valores;\" for col, val in missing_values_sorted.items()]\n",
    "    # Retornar os resultados formatados\n",
    "    return \"\\n\".join(missing_values_list)"
   ]
  },
  {
   "cell_type": "code",
   "execution_count": 3471,
   "metadata": {},
   "outputs": [
    {
     "name": "stdout",
     "output_type": "stream",
     "text": [
      "*   MasVnrType: 872 valores;\n"
     ]
    }
   ],
   "source": [
    "print(checkNullDataOnDataframe(df_subsetpt2))"
   ]
  },
  {
   "cell_type": "markdown",
   "metadata": {},
   "source": [
    "É possível observar que existe uma variável categórica com valores nulos. Dado que esta variável não será incluída no cálculo da performance do baseline inicial (valores numéricos), a análise e resolução dos valores em falta será realizada posteriormente, aquando da sua transformação e inclusão no baseline para o cálculo da performance."
   ]
  },
  {
   "cell_type": "markdown",
   "metadata": {},
   "source": [
    "Apresentação do resultado acima, em formato visual utilizando a bilbioteca seaborn"
   ]
  },
  {
   "cell_type": "code",
   "execution_count": 3472,
   "metadata": {},
   "outputs": [
    {
     "data": {
      "text/plain": [
       "<Axes: >"
      ]
     },
     "execution_count": 3472,
     "metadata": {},
     "output_type": "execute_result"
    },
    {
     "data": {
      "image/png": "[encoded data removed]",
      "text/plain": [
       "<Figure size 640x480 with 2 Axes>"
      ]
     },
     "metadata": {},
     "output_type": "display_data"
    }
   ],
   "source": [
    "sns.heatmap(df_subsetpt2.isna(), cmap='viridis')"
   ]
  },
  {
   "cell_type": "markdown",
   "metadata": {},
   "source": [
    "### 2.2 Progressive Score Baseline "
   ]
  },
  {
   "cell_type": "markdown",
   "metadata": {},
   "source": [
    "#### 2.2.1  Score Baseline Inicial"
   ]
  },
  {
   "cell_type": "markdown",
   "metadata": {},
   "source": [
    "Nesta fase inicial, iremos incluir apenas as variáveis de tipo numérico para calcular o score do baseline inicial, dado que o modelo de avaliação não suporta variáveis categóricas como entrada."
   ]
  },
  {
   "cell_type": "code",
   "execution_count": 3473,
   "metadata": {},
   "outputs": [],
   "source": [
    "baseline_scores = {}\n",
    "baseline_df = df_subsetpt2.select_dtypes(include='number')"
   ]
  },
  {
   "cell_type": "markdown",
   "metadata": {},
   "source": [
    "Abaixo é calculada a capacidade previsão do baseline inicial para a variável target. Os dados foram divididos em conjuntos de treino e teste, considerando apenas variáveis numéricas. Posteriormente, foi aplicada a função score_approach para avaliar a precisão inicial do modelo."
   ]
  },
  {
   "cell_type": "code",
   "execution_count": 3474,
   "metadata": {},
   "outputs": [
    {
     "name": "stdout",
     "output_type": "stream",
     "text": [
      "Baseline score: 0.7406639004149378\n"
     ]
    }
   ],
   "source": [
    "# Baseline score\n",
    "train_df, test_df = split_dataset(baseline_df, 'SalesPriceTarget')\n",
    "baseline_scores['Baseline Initial'] = score_approach(train_df, test_df, 'SalesPriceTarget')\n",
    "print(f\"Baseline score: {baseline_scores['Baseline Initial']}\")\n",
    "\n"
   ]
  },
  {
   "cell_type": "markdown",
   "metadata": {},
   "source": [
    "#### 2.2.2  Score Baseline - Tranformação 1 (Ordinal Encoding) "
   ]
  },
  {
   "cell_type": "markdown",
   "metadata": {},
   "source": [
    "Sendo a variavel `MasVnrType` uma variável categórica, inicialmente considerei imputar os valores nulos pelo valor da moda. No entanto, após analisar o descritivo da variável, constatei que esta se refere aos diferentes tipos de revestimento, incluindo a existência de uma opção \"None\" que interpreto que seja  ausência de revestimento. Assi sendo os valores nulos não representam a ausência de informação, mas sim que a casa não possui revestimento.\n",
    "\n",
    "\n",
    "MasVnrType: Masonry veneer type\n",
    "\n",
    "-BrkCmn\tBrick Common\n",
    "\n",
    "-BrkFace\tBrick Face\n",
    "\n",
    "-CBlock\tCinder Block\n",
    "\n",
    "**-None\tNone**\n",
    "\n",
    "-Stone\tStone\n"
   ]
  },
  {
   "cell_type": "markdown",
   "metadata": {},
   "source": [
    "Assim desta forma não seria correcto imputar o valor da moda, mas sim uma classificação que indique a ausência de revestimento na casa. \n",
    "Após uma pesquisa online, verifiquei que as opções em cima tem valores económicos diferentes, e tendo em conta que a variavel target deste problema está relacionado com o preço dos imoveis, decidi avançar com uma **encoding ordinal** consoante o tipo de material/valor económico de acordo com a ordem abaixo . \n",
    "\n",
    "\n",
    "Possível Ordem Implícita:\n",
    "\n",
    "1-None: Sem revestimento, valor económico baixo; \n",
    "\n",
    "2-CBlock (Cinder Block): Material utilitário, geralmente econômico;\n",
    "\n",
    "3-BrkCmn (Brick Common): Tijolo comum, mais acessível;\n",
    "\n",
    "4-BrkFace (Brick Face): Tijolo decorativo, maior custo que o comum;\n",
    "\n",
    "5-Stone: Pedra, geralmente considerada o material de maior qualidade e também com maior custo;"
   ]
  },
  {
   "cell_type": "markdown",
   "metadata": {},
   "source": [
    "No código abaixo, a variável MasVnrType é adicionada ao baseline definido anteriormente. Em seguida, procede-se à imputação dos valores ausentes com a string 'None'. Esta imputação não é realizada após a divisão entre os subconjuntos de treino e teste, uma vez que é necessário que o valor tratado esteja presente no baseline inicial para ser utilizado na segunda iteração, na qual será adicionada uma nova variável categórica ao conjunto inicial. Caso esta abordagem não fosse adotada, seria possível realizar a transformação diretamente nos subconjuntos de treino e teste, criando uma cópia para passar a informação transformada."
   ]
  },
  {
   "cell_type": "code",
   "execution_count": 3475,
   "metadata": {},
   "outputs": [],
   "source": [
    "# Baseline score Transformação 1\n",
    "baseline_df['MasVnrType'] = df_subsetpt2['MasVnrType']\n",
    "none_imputer = SimpleImputer(strategy='constant', fill_value='None')\n",
    "baseline_df[['MasVnrType']] = none_imputer.fit_transform(baseline_df[['MasVnrType']])\n"
   ]
  },
  {
   "cell_type": "markdown",
   "metadata": {},
   "source": [
    "Abaixo a variável categórica `MasVnrType`é transformada numa  variavel ordinal , ordenando as categorias de acordo com a seguinte ordem:\n",
    "\n",
    "1. **None**: Sem revestimento\n",
    "2. **CBlock**: Bloco de concreto\n",
    "3. **BrkCmn**: Tijolo comum\n",
    "4. **BrkFace**: Tijolo decorativo\n",
    "5. **Stone**: Pedra"
   ]
  },
  {
   "cell_type": "code",
   "execution_count": 3476,
   "metadata": {},
   "outputs": [],
   "source": [
    "baseline_df['MasVnrType'] = pd.Categorical(\n",
    "    baseline_df['MasVnrType'],\n",
    "    categories=[\"None\", \"CBlock\", \"BrkCmn\", \"BrkFace\", \"Stone\"],\n",
    "    ordered=True\n",
    ").codes\n"
   ]
  },
  {
   "cell_type": "markdown",
   "metadata": {},
   "source": [
    " No código abaixo é feito a  divisão entre os subconjuntos de treino e teste"
   ]
  },
  {
   "cell_type": "code",
   "execution_count": 3477,
   "metadata": {},
   "outputs": [],
   "source": [
    "train_df_1, test_df_1 = split_dataset(baseline_df, 'SalesPriceTarget')"
   ]
  },
  {
   "cell_type": "markdown",
   "metadata": {},
   "source": [
    "Novamente é feito uma verificação para confirmar que  o processo de imputação preencheu todos os valores em falta com o valor `None`"
   ]
  },
  {
   "cell_type": "code",
   "execution_count": 3478,
   "metadata": {},
   "outputs": [
    {
     "name": "stdout",
     "output_type": "stream",
     "text": [
      "\n"
     ]
    },
    {
     "data": {
      "image/png": "[encoded data removed]",
      "text/plain": [
       "<Figure size 640x480 with 2 Axes>"
      ]
     },
     "metadata": {},
     "output_type": "display_data"
    }
   ],
   "source": [
    "# Apresentar variaveis com ausência de valores visualmente\n",
    "sns.heatmap(baseline_df.isna(), cmap='viridis')\n",
    "\n",
    "print(checkNullDataOnDataframe(baseline_df))"
   ]
  },
  {
   "cell_type": "markdown",
   "metadata": {},
   "source": [
    "Abaixo é calculada a capacidade previsão do baseline inicial incluindo a transformação encoding ordinal `MasVnrType`,  para a variável target."
   ]
  },
  {
   "cell_type": "code",
   "execution_count": 3479,
   "metadata": {},
   "outputs": [
    {
     "name": "stdout",
     "output_type": "stream",
     "text": [
      "Baseline score 1: 0.7385892116182573\n"
     ]
    }
   ],
   "source": [
    "# Baseline score Transformação 1\n",
    "baseline_scores['Aproach 1-Ordinal Encoding'] = score_approach(train_df_1, test_df_1, 'SalesPriceTarget')\n",
    "print(f\"Baseline score 1: {baseline_scores['Aproach 1-Ordinal Encoding']}\")"
   ]
  },
  {
   "cell_type": "markdown",
   "metadata": {},
   "source": [
    "#### 2.2.3  Score Subset Baseline - Tranformação 2 (One Hot Encoding)"
   ]
  },
  {
   "cell_type": "markdown",
   "metadata": {},
   "source": [
    "A variável SaleCondition descreve a condição da venda de uma propriedade e como tal é possivel que a condição tenha impacto na formação do preço de venda da propriedade. Sendo uma variavel categorica, neste exercicio a transformação aplicada será um one hot encoding."
   ]
  },
  {
   "cell_type": "markdown",
   "metadata": {},
   "source": [
    "A varivel categorica é adicionada ao dataframe do baseline, e feito uma confirmação através da função info() e impressão de um sample"
   ]
  },
  {
   "cell_type": "code",
   "execution_count": 3480,
   "metadata": {},
   "outputs": [
    {
     "name": "stdout",
     "output_type": "stream",
     "text": [
      "<class 'pandas.core.frame.DataFrame'>\n",
      "RangeIndex: 1460 entries, 0 to 1459\n",
      "Data columns (total 7 columns):\n",
      " #   Column            Non-Null Count  Dtype  \n",
      "---  ------            --------------  -----  \n",
      " 0   YearBuilt         1460 non-null   int64  \n",
      " 1   LotFrontage       1460 non-null   float64\n",
      " 2   GarageArea        1460 non-null   int64  \n",
      " 3   GarageCars        1460 non-null   int64  \n",
      " 4   SalesPriceTarget  1460 non-null   int64  \n",
      " 5   MasVnrType        1460 non-null   int8   \n",
      " 6   SaleCondition     1460 non-null   object \n",
      "dtypes: float64(1), int64(4), int8(1), object(1)\n",
      "memory usage: 70.0+ KB\n"
     ]
    }
   ],
   "source": [
    "baseline_df['SaleCondition'] = df_subsetpt2['SaleCondition']\n",
    "baseline_df.info()"
   ]
  },
  {
   "cell_type": "code",
   "execution_count": 3481,
   "metadata": {},
   "outputs": [
    {
     "data": {
      "text/html": [
       "<div>\n",
       "<style scoped>\n",
       "    .dataframe tbody tr th:only-of-type {\n",
       "        vertical-align: middle;\n",
       "    }\n",
       "\n",
       "    .dataframe tbody tr th {\n",
       "        vertical-align: top;\n",
       "    }\n",
       "\n",
       "    .dataframe thead th {\n",
       "        text-align: right;\n",
       "    }\n",
       "</style>\n",
       "<table border=\"1\" class=\"dataframe\">\n",
       "  <thead>\n",
       "    <tr style=\"text-align: right;\">\n",
       "      <th></th>\n",
       "      <th>YearBuilt</th>\n",
       "      <th>LotFrontage</th>\n",
       "      <th>GarageArea</th>\n",
       "      <th>GarageCars</th>\n",
       "      <th>SalesPriceTarget</th>\n",
       "      <th>MasVnrType</th>\n",
       "      <th>SaleCondition</th>\n",
       "    </tr>\n",
       "  </thead>\n",
       "  <tbody>\n",
       "    <tr>\n",
       "      <th>1220</th>\n",
       "      <td>1964</td>\n",
       "      <td>66.0</td>\n",
       "      <td>288</td>\n",
       "      <td>1</td>\n",
       "      <td>0</td>\n",
       "      <td>0</td>\n",
       "      <td>Abnorml</td>\n",
       "    </tr>\n",
       "    <tr>\n",
       "      <th>1277</th>\n",
       "      <td>1967</td>\n",
       "      <td>69.0</td>\n",
       "      <td>480</td>\n",
       "      <td>2</td>\n",
       "      <td>1</td>\n",
       "      <td>3</td>\n",
       "      <td>Normal</td>\n",
       "    </tr>\n",
       "    <tr>\n",
       "      <th>987</th>\n",
       "      <td>2009</td>\n",
       "      <td>83.0</td>\n",
       "      <td>606</td>\n",
       "      <td>3</td>\n",
       "      <td>1</td>\n",
       "      <td>4</td>\n",
       "      <td>Partial</td>\n",
       "    </tr>\n",
       "    <tr>\n",
       "      <th>1176</th>\n",
       "      <td>1984</td>\n",
       "      <td>37.0</td>\n",
       "      <td>264</td>\n",
       "      <td>1</td>\n",
       "      <td>0</td>\n",
       "      <td>0</td>\n",
       "      <td>Normal</td>\n",
       "    </tr>\n",
       "    <tr>\n",
       "      <th>1117</th>\n",
       "      <td>1967</td>\n",
       "      <td>57.0</td>\n",
       "      <td>450</td>\n",
       "      <td>2</td>\n",
       "      <td>0</td>\n",
       "      <td>0</td>\n",
       "      <td>Normal</td>\n",
       "    </tr>\n",
       "  </tbody>\n",
       "</table>\n",
       "</div>"
      ],
      "text/plain": [
       "      YearBuilt  LotFrontage  GarageArea  GarageCars  SalesPriceTarget  \\\n",
       "1220       1964         66.0         288           1                 0   \n",
       "1277       1967         69.0         480           2                 1   \n",
       "987        2009         83.0         606           3                 1   \n",
       "1176       1984         37.0         264           1                 0   \n",
       "1117       1967         57.0         450           2                 0   \n",
       "\n",
       "      MasVnrType SaleCondition  \n",
       "1220           0       Abnorml  \n",
       "1277           3        Normal  \n",
       "987            4       Partial  \n",
       "1176           0        Normal  \n",
       "1117           0        Normal  "
      ]
     },
     "execution_count": 3481,
     "metadata": {},
     "output_type": "execute_result"
    }
   ],
   "source": [
    "baseline_df.sample(5)"
   ]
  },
  {
   "cell_type": "markdown",
   "metadata": {},
   "source": [
    "Abaixo é feito uma verificação dos valores dinstingos da varivel categorica adicionada"
   ]
  },
  {
   "cell_type": "code",
   "execution_count": 3482,
   "metadata": {},
   "outputs": [
    {
     "name": "stdout",
     "output_type": "stream",
     "text": [
      "Distinct values in 'variable': ['Normal' 'Abnorml' 'Partial' 'AdjLand' 'Alloca' 'Family']\n"
     ]
    }
   ],
   "source": [
    "# Get distinct values from the column\n",
    "distinct_values = baseline_df['SaleCondition'].unique()\n",
    "\n",
    "# Print the distinct values\n",
    "print(\"Distinct values in 'variable':\", distinct_values)"
   ]
  },
  {
   "cell_type": "markdown",
   "metadata": {},
   "source": [
    " No código abaixo é feito a  divisão entre os subconjuntos de treino e teste"
   ]
  },
  {
   "cell_type": "code",
   "execution_count": 3483,
   "metadata": {},
   "outputs": [],
   "source": [
    "train_df_iter2, test_df_iter2 = split_dataset(baseline_df, 'SalesPriceTarget')"
   ]
  },
  {
   "cell_type": "markdown",
   "metadata": {},
   "source": [
    "O código abaixo cria uma instância do OneHotEncoder para transformar a variável categórica em colunas binárias.O encoder é ajustado apenas com os dados de treino para evitar Data Leakage"
   ]
  },
  {
   "cell_type": "code",
   "execution_count": 3484,
   "metadata": {},
   "outputs": [],
   "source": [
    "# Inicializar o OneHotEncoder\n",
    "ohe_ = OHE(cols=['SaleCondition'], use_cat_names=True)\n",
    "\n",
    "# Ajustar o encoder e transformar os dados\n",
    "train_df_iter2 = ohe_.fit_transform(train_df_iter2)\n",
    "test_df_iter2 = ohe_.fit_transform(test_df_iter2)\n"
   ]
  },
  {
   "cell_type": "markdown",
   "metadata": {},
   "source": [
    "Abaixo é calculada a capacidade previsão do baseline inicial incluindo a transformação one hot encoding `SalesCondition`,  para a variável target."
   ]
  },
  {
   "cell_type": "code",
   "execution_count": 3485,
   "metadata": {},
   "outputs": [
    {
     "name": "stdout",
     "output_type": "stream",
     "text": [
      "Baseline score 2: 0.7427385892116183\n"
     ]
    }
   ],
   "source": [
    "baseline_scores['Aproach 2-One Hot Encoding'] = score_approach(train_df_iter2,test_df_iter2, 'SalesPriceTarget')\n",
    "print(f\"Baseline score 2: {baseline_scores['Aproach 2-One Hot Encoding']}\")"
   ]
  },
  {
   "cell_type": "markdown",
   "metadata": {},
   "source": [
    "#### 2.2.4  Score Subset Baseline - Tranformação 3 (Bins Quantile Strategy)"
   ]
  },
  {
   "cell_type": "markdown",
   "metadata": {},
   "source": [
    "A variável LotFrontage, como já tinhamos observávo, apresenta uma distribuição ligeiramente assimétrica à direita, indicando que a maioria dos valores está concentrada na parte inferior do intervalo (entre 0 e 100), com uma cauda longa à direita. Esta característica deve-se à presença de outliers, conforme confirmámos através do método dos interquartis."
   ]
  },
  {
   "cell_type": "code",
   "execution_count": 3486,
   "metadata": {},
   "outputs": [
    {
     "data": {
      "image/png": "[encoded data removed]",
      "text/plain": [
       "<Figure size 1800x600 with 1 Axes>"
      ]
     },
     "metadata": {},
     "output_type": "display_data"
    }
   ],
   "source": [
    "plot_histogram(baseline_df, 'LotFrontage', bins=100, kde=True, line_width=3, title='Lot Frontage Distribution of Houses', xlabel='Lot Frontage', ylabel='# Houses',color='purple')"
   ]
  },
  {
   "cell_type": "markdown",
   "metadata": {},
   "source": [
    "Verificação de outliers através do método interquatis"
   ]
  },
  {
   "cell_type": "code",
   "execution_count": 3487,
   "metadata": {},
   "outputs": [
    {
     "name": "stdout",
     "output_type": "stream",
     "text": [
      "{'Total de Outliers': np.int64(106), 'Limite Inferior': np.float64(31.5), 'Limite Superior': np.float64(107.5)}\n"
     ]
    }
   ],
   "source": [
    "outlierinfo = detect_outliers_iqr(baseline_df, 'LotFrontage')\n",
    "print(outlierinfo[0])"
   ]
  },
  {
   "cell_type": "markdown",
   "metadata": {},
   "source": [
    "Tendo em conta a presença de outliers, a transformação aplicada consistirá na criação de bins, dividindo os valores de LotFrontage em intervalos discretos. A estratégia selecionada para definir os bins foi o método quantile, que distribui aproximadamente o mesmo número de amostras por bin. Esta abordagem é particularmente adequada devido à distribuição não uniforme da variável, que apresenta um enviesamento à direita."
   ]
  },
  {
   "cell_type": "code",
   "execution_count": 3488,
   "metadata": {},
   "outputs": [],
   "source": [
    "train_df_iter3 = train_df_iter2.copy()\n",
    "test_df_iter3 = test_df_iter2.copy()"
   ]
  },
  {
   "cell_type": "markdown",
   "metadata": {},
   "source": [
    "código istancia objeto `KBinsDiscretizer` configurado para dividir os valores em 3 bins usando a estratégia `quantile`"
   ]
  },
  {
   "cell_type": "code",
   "execution_count": 3489,
   "metadata": {},
   "outputs": [],
   "source": [
    "bin_quantile = KBinsDiscretizer(strategy='quantile', n_bins=3, encode='ordinal')"
   ]
  },
  {
   "cell_type": "markdown",
   "metadata": {},
   "source": [
    "O seguinte código ajusta a transformação aos dados da variável LotFrontage no conjunto de treino"
   ]
  },
  {
   "cell_type": "code",
   "execution_count": 3490,
   "metadata": {},
   "outputs": [
    {
     "data": {
      "text/html": [
       "<style>#sk-container-id-38 {\n",
       "  /* Definition of color scheme common for light and dark mode */\n",
       "  --sklearn-color-text: black;\n",
       "  --sklearn-color-line: gray;\n",
       "  /* Definition of color scheme for unfitted estimators */\n",
       "  --sklearn-color-unfitted-level-0: #fff5e6;\n",
       "  --sklearn-color-unfitted-level-1: #f6e4d2;\n",
       "  --sklearn-color-unfitted-level-2: #ffe0b3;\n",
       "  --sklearn-color-unfitted-level-3: chocolate;\n",
       "  /* Definition of color scheme for fitted estimators */\n",
       "  --sklearn-color-fitted-level-0: #f0f8ff;\n",
       "  --sklearn-color-fitted-level-1: #d4ebff;\n",
       "  --sklearn-color-fitted-level-2: #b3dbfd;\n",
       "  --sklearn-color-fitted-level-3: cornflowerblue;\n",
       "\n",
       "  /* Specific color for light theme */\n",
       "  --sklearn-color-text-on-default-background: var(--sg-text-color, var(--theme-code-foreground, var(--jp-content-font-color1, black)));\n",
       "  --sklearn-color-background: var(--sg-background-color, var(--theme-background, var(--jp-layout-color0, white)));\n",
       "  --sklearn-color-border-box: var(--sg-text-color, var(--theme-code-foreground, var(--jp-content-font-color1, black)));\n",
       "  --sklearn-color-icon: #696969;\n",
       "\n",
       "  @media (prefers-color-scheme: dark) {\n",
       "    /* Redefinition of color scheme for dark theme */\n",
       "    --sklearn-color-text-on-default-background: var(--sg-text-color, var(--theme-code-foreground, var(--jp-content-font-color1, white)));\n",
       "    --sklearn-color-background: var(--sg-background-color, var(--theme-background, var(--jp-layout-color0, #111)));\n",
       "    --sklearn-color-border-box: var(--sg-text-color, var(--theme-code-foreground, var(--jp-content-font-color1, white)));\n",
       "    --sklearn-color-icon: #878787;\n",
       "  }\n",
       "}\n",
       "\n",
       "#sk-container-id-38 {\n",
       "  color: var(--sklearn-color-text);\n",
       "}\n",
       "\n",
       "#sk-container-id-38 pre {\n",
       "  padding: 0;\n",
       "}\n",
       "\n",
       "#sk-container-id-38 input.sk-hidden--visually {\n",
       "  border: 0;\n",
       "  clip: rect(1px 1px 1px 1px);\n",
       "  clip: rect(1px, 1px, 1px, 1px);\n",
       "  height: 1px;\n",
       "  margin: -1px;\n",
       "  overflow: hidden;\n",
       "  padding: 0;\n",
       "  position: absolute;\n",
       "  width: 1px;\n",
       "}\n",
       "\n",
       "#sk-container-id-38 div.sk-dashed-wrapped {\n",
       "  border: 1px dashed var(--sklearn-color-line);\n",
       "  margin: 0 0.4em 0.5em 0.4em;\n",
       "  box-sizing: border-box;\n",
       "  padding-bottom: 0.4em;\n",
       "  background-color: var(--sklearn-color-background);\n",
       "}\n",
       "\n",
       "#sk-container-id-38 div.sk-container {\n",
       "  /* jupyter's `normalize.less` sets `[hidden] { display: none; }`\n",
       "     but bootstrap.min.css set `[hidden] { display: none !important; }`\n",
       "     so we also need the `!important` here to be able to override the\n",
       "     default hidden behavior on the sphinx rendered scikit-learn.org.\n",
       "     See: https://github.com/scikit-learn/scikit-learn/issues/21755 */\n",
       "  display: inline-block !important;\n",
       "  position: relative;\n",
       "}\n",
       "\n",
       "#sk-container-id-38 div.sk-text-repr-fallback {\n",
       "  display: none;\n",
       "}\n",
       "\n",
       "div.sk-parallel-item,\n",
       "div.sk-serial,\n",
       "div.sk-item {\n",
       "  /* draw centered vertical line to link estimators */\n",
       "  background-image: linear-gradient(var(--sklearn-color-text-on-default-background), var(--sklearn-color-text-on-default-background));\n",
       "  background-size: 2px 100%;\n",
       "  background-repeat: no-repeat;\n",
       "  background-position: center center;\n",
       "}\n",
       "\n",
       "/* Parallel-specific style estimator block */\n",
       "\n",
       "#sk-container-id-38 div.sk-parallel-item::after {\n",
       "  content: \"\";\n",
       "  width: 100%;\n",
       "  border-bottom: 2px solid var(--sklearn-color-text-on-default-background);\n",
       "  flex-grow: 1;\n",
       "}\n",
       "\n",
       "#sk-container-id-38 div.sk-parallel {\n",
       "  display: flex;\n",
       "  align-items: stretch;\n",
       "  justify-content: center;\n",
       "  background-color: var(--sklearn-color-background);\n",
       "  position: relative;\n",
       "}\n",
       "\n",
       "#sk-container-id-38 div.sk-parallel-item {\n",
       "  display: flex;\n",
       "  flex-direction: column;\n",
       "}\n",
       "\n",
       "#sk-container-id-38 div.sk-parallel-item:first-child::after {\n",
       "  align-self: flex-end;\n",
       "  width: 50%;\n",
       "}\n",
       "\n",
       "#sk-container-id-38 div.sk-parallel-item:last-child::after {\n",
       "  align-self: flex-start;\n",
       "  width: 50%;\n",
       "}\n",
       "\n",
       "#sk-container-id-38 div.sk-parallel-item:only-child::after {\n",
       "  width: 0;\n",
       "}\n",
       "\n",
       "/* Serial-specific style estimator block */\n",
       "\n",
       "#sk-container-id-38 div.sk-serial {\n",
       "  display: flex;\n",
       "  flex-direction: column;\n",
       "  align-items: center;\n",
       "  background-color: var(--sklearn-color-background);\n",
       "  padding-right: 1em;\n",
       "  padding-left: 1em;\n",
       "}\n",
       "\n",
       "\n",
       "/* Toggleable style: style used for estimator/Pipeline/ColumnTransformer box that is\n",
       "clickable and can be expanded/collapsed.\n",
       "- Pipeline and ColumnTransformer use this feature and define the default style\n",
       "- Estimators will overwrite some part of the style using the `sk-estimator` class\n",
       "*/\n",
       "\n",
       "/* Pipeline and ColumnTransformer style (default) */\n",
       "\n",
       "#sk-container-id-38 div.sk-toggleable {\n",
       "  /* Default theme specific background. It is overwritten whether we have a\n",
       "  specific estimator or a Pipeline/ColumnTransformer */\n",
       "  background-color: var(--sklearn-color-background);\n",
       "}\n",
       "\n",
       "/* Toggleable label */\n",
       "#sk-container-id-38 label.sk-toggleable__label {\n",
       "  cursor: pointer;\n",
       "  display: block;\n",
       "  width: 100%;\n",
       "  margin-bottom: 0;\n",
       "  padding: 0.5em;\n",
       "  box-sizing: border-box;\n",
       "  text-align: center;\n",
       "}\n",
       "\n",
       "#sk-container-id-38 label.sk-toggleable__label-arrow:before {\n",
       "  /* Arrow on the left of the label */\n",
       "  content: \"▸\";\n",
       "  float: left;\n",
       "  margin-right: 0.25em;\n",
       "  color: var(--sklearn-color-icon);\n",
       "}\n",
       "\n",
       "#sk-container-id-38 label.sk-toggleable__label-arrow:hover:before {\n",
       "  color: var(--sklearn-color-text);\n",
       "}\n",
       "\n",
       "/* Toggleable content - dropdown */\n",
       "\n",
       "#sk-container-id-38 div.sk-toggleable__content {\n",
       "  max-height: 0;\n",
       "  max-width: 0;\n",
       "  overflow: hidden;\n",
       "  text-align: left;\n",
       "  /* unfitted */\n",
       "  background-color: var(--sklearn-color-unfitted-level-0);\n",
       "}\n",
       "\n",
       "#sk-container-id-38 div.sk-toggleable__content.fitted {\n",
       "  /* fitted */\n",
       "  background-color: var(--sklearn-color-fitted-level-0);\n",
       "}\n",
       "\n",
       "#sk-container-id-38 div.sk-toggleable__content pre {\n",
       "  margin: 0.2em;\n",
       "  border-radius: 0.25em;\n",
       "  color: var(--sklearn-color-text);\n",
       "  /* unfitted */\n",
       "  background-color: var(--sklearn-color-unfitted-level-0);\n",
       "}\n",
       "\n",
       "#sk-container-id-38 div.sk-toggleable__content.fitted pre {\n",
       "  /* unfitted */\n",
       "  background-color: var(--sklearn-color-fitted-level-0);\n",
       "}\n",
       "\n",
       "#sk-container-id-38 input.sk-toggleable__control:checked~div.sk-toggleable__content {\n",
       "  /* Expand drop-down */\n",
       "  max-height: 200px;\n",
       "  max-width: 100%;\n",
       "  overflow: auto;\n",
       "}\n",
       "\n",
       "#sk-container-id-38 input.sk-toggleable__control:checked~label.sk-toggleable__label-arrow:before {\n",
       "  content: \"▾\";\n",
       "}\n",
       "\n",
       "/* Pipeline/ColumnTransformer-specific style */\n",
       "\n",
       "#sk-container-id-38 div.sk-label input.sk-toggleable__control:checked~label.sk-toggleable__label {\n",
       "  color: var(--sklearn-color-text);\n",
       "  background-color: var(--sklearn-color-unfitted-level-2);\n",
       "}\n",
       "\n",
       "#sk-container-id-38 div.sk-label.fitted input.sk-toggleable__control:checked~label.sk-toggleable__label {\n",
       "  background-color: var(--sklearn-color-fitted-level-2);\n",
       "}\n",
       "\n",
       "/* Estimator-specific style */\n",
       "\n",
       "/* Colorize estimator box */\n",
       "#sk-container-id-38 div.sk-estimator input.sk-toggleable__control:checked~label.sk-toggleable__label {\n",
       "  /* unfitted */\n",
       "  background-color: var(--sklearn-color-unfitted-level-2);\n",
       "}\n",
       "\n",
       "#sk-container-id-38 div.sk-estimator.fitted input.sk-toggleable__control:checked~label.sk-toggleable__label {\n",
       "  /* fitted */\n",
       "  background-color: var(--sklearn-color-fitted-level-2);\n",
       "}\n",
       "\n",
       "#sk-container-id-38 div.sk-label label.sk-toggleable__label,\n",
       "#sk-container-id-38 div.sk-label label {\n",
       "  /* The background is the default theme color */\n",
       "  color: var(--sklearn-color-text-on-default-background);\n",
       "}\n",
       "\n",
       "/* On hover, darken the color of the background */\n",
       "#sk-container-id-38 div.sk-label:hover label.sk-toggleable__label {\n",
       "  color: var(--sklearn-color-text);\n",
       "  background-color: var(--sklearn-color-unfitted-level-2);\n",
       "}\n",
       "\n",
       "/* Label box, darken color on hover, fitted */\n",
       "#sk-container-id-38 div.sk-label.fitted:hover label.sk-toggleable__label.fitted {\n",
       "  color: var(--sklearn-color-text);\n",
       "  background-color: var(--sklearn-color-fitted-level-2);\n",
       "}\n",
       "\n",
       "/* Estimator label */\n",
       "\n",
       "#sk-container-id-38 div.sk-label label {\n",
       "  font-family: monospace;\n",
       "  font-weight: bold;\n",
       "  display: inline-block;\n",
       "  line-height: 1.2em;\n",
       "}\n",
       "\n",
       "#sk-container-id-38 div.sk-label-container {\n",
       "  text-align: center;\n",
       "}\n",
       "\n",
       "/* Estimator-specific */\n",
       "#sk-container-id-38 div.sk-estimator {\n",
       "  font-family: monospace;\n",
       "  border: 1px dotted var(--sklearn-color-border-box);\n",
       "  border-radius: 0.25em;\n",
       "  box-sizing: border-box;\n",
       "  margin-bottom: 0.5em;\n",
       "  /* unfitted */\n",
       "  background-color: var(--sklearn-color-unfitted-level-0);\n",
       "}\n",
       "\n",
       "#sk-container-id-38 div.sk-estimator.fitted {\n",
       "  /* fitted */\n",
       "  background-color: var(--sklearn-color-fitted-level-0);\n",
       "}\n",
       "\n",
       "/* on hover */\n",
       "#sk-container-id-38 div.sk-estimator:hover {\n",
       "  /* unfitted */\n",
       "  background-color: var(--sklearn-color-unfitted-level-2);\n",
       "}\n",
       "\n",
       "#sk-container-id-38 div.sk-estimator.fitted:hover {\n",
       "  /* fitted */\n",
       "  background-color: var(--sklearn-color-fitted-level-2);\n",
       "}\n",
       "\n",
       "/* Specification for estimator info (e.g. \"i\" and \"?\") */\n",
       "\n",
       "/* Common style for \"i\" and \"?\" */\n",
       "\n",
       ".sk-estimator-doc-link,\n",
       "a:link.sk-estimator-doc-link,\n",
       "a:visited.sk-estimator-doc-link {\n",
       "  float: right;\n",
       "  font-size: smaller;\n",
       "  line-height: 1em;\n",
       "  font-family: monospace;\n",
       "  background-color: var(--sklearn-color-background);\n",
       "  border-radius: 1em;\n",
       "  height: 1em;\n",
       "  width: 1em;\n",
       "  text-decoration: none !important;\n",
       "  margin-left: 1ex;\n",
       "  /* unfitted */\n",
       "  border: var(--sklearn-color-unfitted-level-1) 1pt solid;\n",
       "  color: var(--sklearn-color-unfitted-level-1);\n",
       "}\n",
       "\n",
       ".sk-estimator-doc-link.fitted,\n",
       "a:link.sk-estimator-doc-link.fitted,\n",
       "a:visited.sk-estimator-doc-link.fitted {\n",
       "  /* fitted */\n",
       "  border: var(--sklearn-color-fitted-level-1) 1pt solid;\n",
       "  color: var(--sklearn-color-fitted-level-1);\n",
       "}\n",
       "\n",
       "/* On hover */\n",
       "div.sk-estimator:hover .sk-estimator-doc-link:hover,\n",
       ".sk-estimator-doc-link:hover,\n",
       "div.sk-label-container:hover .sk-estimator-doc-link:hover,\n",
       ".sk-estimator-doc-link:hover {\n",
       "  /* unfitted */\n",
       "  background-color: var(--sklearn-color-unfitted-level-3);\n",
       "  color: var(--sklearn-color-background);\n",
       "  text-decoration: none;\n",
       "}\n",
       "\n",
       "div.sk-estimator.fitted:hover .sk-estimator-doc-link.fitted:hover,\n",
       ".sk-estimator-doc-link.fitted:hover,\n",
       "div.sk-label-container:hover .sk-estimator-doc-link.fitted:hover,\n",
       ".sk-estimator-doc-link.fitted:hover {\n",
       "  /* fitted */\n",
       "  background-color: var(--sklearn-color-fitted-level-3);\n",
       "  color: var(--sklearn-color-background);\n",
       "  text-decoration: none;\n",
       "}\n",
       "\n",
       "/* Span, style for the box shown on hovering the info icon */\n",
       ".sk-estimator-doc-link span {\n",
       "  display: none;\n",
       "  z-index: 9999;\n",
       "  position: relative;\n",
       "  font-weight: normal;\n",
       "  right: .2ex;\n",
       "  padding: .5ex;\n",
       "  margin: .5ex;\n",
       "  width: min-content;\n",
       "  min-width: 20ex;\n",
       "  max-width: 50ex;\n",
       "  color: var(--sklearn-color-text);\n",
       "  box-shadow: 2pt 2pt 4pt #999;\n",
       "  /* unfitted */\n",
       "  background: var(--sklearn-color-unfitted-level-0);\n",
       "  border: .5pt solid var(--sklearn-color-unfitted-level-3);\n",
       "}\n",
       "\n",
       ".sk-estimator-doc-link.fitted span {\n",
       "  /* fitted */\n",
       "  background: var(--sklearn-color-fitted-level-0);\n",
       "  border: var(--sklearn-color-fitted-level-3);\n",
       "}\n",
       "\n",
       ".sk-estimator-doc-link:hover span {\n",
       "  display: block;\n",
       "}\n",
       "\n",
       "/* \"?\"-specific style due to the `<a>` HTML tag */\n",
       "\n",
       "#sk-container-id-38 a.estimator_doc_link {\n",
       "  float: right;\n",
       "  font-size: 1rem;\n",
       "  line-height: 1em;\n",
       "  font-family: monospace;\n",
       "  background-color: var(--sklearn-color-background);\n",
       "  border-radius: 1rem;\n",
       "  height: 1rem;\n",
       "  width: 1rem;\n",
       "  text-decoration: none;\n",
       "  /* unfitted */\n",
       "  color: var(--sklearn-color-unfitted-level-1);\n",
       "  border: var(--sklearn-color-unfitted-level-1) 1pt solid;\n",
       "}\n",
       "\n",
       "#sk-container-id-38 a.estimator_doc_link.fitted {\n",
       "  /* fitted */\n",
       "  border: var(--sklearn-color-fitted-level-1) 1pt solid;\n",
       "  color: var(--sklearn-color-fitted-level-1);\n",
       "}\n",
       "\n",
       "/* On hover */\n",
       "#sk-container-id-38 a.estimator_doc_link:hover {\n",
       "  /* unfitted */\n",
       "  background-color: var(--sklearn-color-unfitted-level-3);\n",
       "  color: var(--sklearn-color-background);\n",
       "  text-decoration: none;\n",
       "}\n",
       "\n",
       "#sk-container-id-38 a.estimator_doc_link.fitted:hover {\n",
       "  /* fitted */\n",
       "  background-color: var(--sklearn-color-fitted-level-3);\n",
       "}\n",
       "</style><div id=\"sk-container-id-38\" class=\"sk-top-container\"><div class=\"sk-text-repr-fallback\"><pre>KBinsDiscretizer(encode=&#x27;ordinal&#x27;, n_bins=3)</pre><b>In a Jupyter environment, please rerun this cell to show the HTML representation or trust the notebook. <br />On GitHub, the HTML representation is unable to render, please try loading this page with nbviewer.org.</b></div><div class=\"sk-container\" hidden><div class=\"sk-item\"><div class=\"sk-estimator fitted sk-toggleable\"><input class=\"sk-toggleable__control sk-hidden--visually\" id=\"sk-estimator-id-38\" type=\"checkbox\" checked><label for=\"sk-estimator-id-38\" class=\"sk-toggleable__label fitted sk-toggleable__label-arrow fitted\">&nbsp;&nbsp;KBinsDiscretizer<a class=\"sk-estimator-doc-link fitted\" rel=\"noreferrer\" target=\"_blank\" href=\"https://scikit-learn.org/1.5/modules/generated/sklearn.preprocessing.KBinsDiscretizer.html\">?<span>Documentation for KBinsDiscretizer</span></a><span class=\"sk-estimator-doc-link fitted\">i<span>Fitted</span></span></label><div class=\"sk-toggleable__content fitted\"><pre>KBinsDiscretizer(encode=&#x27;ordinal&#x27;, n_bins=3)</pre></div> </div></div></div></div>"
      ],
      "text/plain": [
       "KBinsDiscretizer(encode='ordinal', n_bins=3)"
      ]
     },
     "execution_count": 3490,
     "metadata": {},
     "output_type": "execute_result"
    }
   ],
   "source": [
    "bin_quantile.fit(train_df_iter3[['LotFrontage']])"
   ]
  },
  {
   "cell_type": "markdown",
   "metadata": {},
   "source": [
    "O seguinte bloco de código aplica a transformação da variável LotFrontage em bins , utilizando os limites calculados pelo objeto `bin_quantile`. Após a transformação, a variável original é substituída pela nova versão binned:"
   ]
  },
  {
   "cell_type": "code",
   "execution_count": 3491,
   "metadata": {},
   "outputs": [
    {
     "data": {
      "text/plain": [
       "LotFrontage_quantile\n",
       "2.0    334\n",
       "1.0    323\n",
       "0.0    321\n",
       "Name: count, dtype: int64"
      ]
     },
     "execution_count": 3491,
     "metadata": {},
     "output_type": "execute_result"
    }
   ],
   "source": [
    "train_df_iter3['LotFrontage_quantile'] = bin_quantile.transform(train_df_iter3[['LotFrontage']])\n",
    "test_df_iter3['LotFrontage_quantile'] = bin_quantile.transform(test_df_iter3[['LotFrontage']])\n",
    "train_df_iter3.drop(['LotFrontage'], axis=1, inplace=True)\n",
    "test_df_iter3.drop(['LotFrontage'], axis=1, inplace=True)\n",
    "\n",
    "train_df_iter3['LotFrontage_quantile'].value_counts()"
   ]
  },
  {
   "cell_type": "code",
   "execution_count": 3492,
   "metadata": {},
   "outputs": [
    {
     "name": "stdout",
     "output_type": "stream",
     "text": [
      "Baseline score 3: 0.7614107883817427\n"
     ]
    }
   ],
   "source": [
    "baseline_scores['Aproach 3-Bins Quantile Strategy'] = score_approach(train_df_iter3,test_df_iter3, 'SalesPriceTarget')\n",
    "print(f\"Baseline score 3: {baseline_scores['Aproach 3-Bins Quantile Strategy']}\")"
   ]
  },
  {
   "cell_type": "markdown",
   "metadata": {},
   "source": [
    "#### 2.2.5  Score Subset Baseline - Tranformação 4 (Outliers Imputation)"
   ]
  },
  {
   "cell_type": "code",
   "execution_count": 3493,
   "metadata": {},
   "outputs": [
    {
     "data": {
      "image/png": "[encoded data removed]",
      "text/plain": [
       "<Figure size 1800x600 with 1 Axes>"
      ]
     },
     "metadata": {},
     "output_type": "display_data"
    }
   ],
   "source": [
    "plot_histogram(baseline_df, 'GarageArea', bins=100, kde=True, line_width=3, title='Garage Area Distribution of Houses', xlabel='Garage Area Square Feet', ylabel='# Houses',color='purple')"
   ]
  },
  {
   "cell_type": "code",
   "execution_count": 3494,
   "metadata": {},
   "outputs": [
    {
     "name": "stdout",
     "output_type": "stream",
     "text": [
      "Average Garage Area Houses is: 472.9801369863014\n"
     ]
    }
   ],
   "source": [
    "#Calculate the mean Garage Area Houses.\n",
    "print(f'Average Garage Area Houses is: {baseline_df.GarageArea.mean()}')"
   ]
  },
  {
   "cell_type": "code",
   "execution_count": 3495,
   "metadata": {},
   "outputs": [
    {
     "name": "stdout",
     "output_type": "stream",
     "text": [
      "Median Garage Area Houses is: 480.0\n"
     ]
    }
   ],
   "source": [
    "#Calculate the median Garage Area Houses.\n",
    "print(f'Median Garage Area Houses is: {baseline_df.GarageArea.median()}')"
   ]
  },
  {
   "cell_type": "code",
   "execution_count": 3496,
   "metadata": {},
   "outputs": [
    {
     "name": "stdout",
     "output_type": "stream",
     "text": [
      "{'Total de Outliers': np.int64(21), 'Limite Inferior': np.float64(-27.75), 'Limite Superior': np.float64(938.25)}\n"
     ]
    }
   ],
   "source": [
    "outlierinfo = detect_outliers_iqr(baseline_df, 'GarageArea')\n",
    "print(outlierinfo[0])"
   ]
  },
  {
   "cell_type": "code",
   "execution_count": 3497,
   "metadata": {},
   "outputs": [],
   "source": [
    "train_df_iter4 = train_df_iter3.copy()\n",
    "test_df_iter4 = test_df_iter3.copy()"
   ]
  },
  {
   "cell_type": "code",
   "execution_count": 3498,
   "metadata": {},
   "outputs": [],
   "source": [
    "# Calcula o IQR (Intervalo Interquartil)\n",
    "Q1 = baseline_df['GarageArea'].quantile(0.25)  # Primeiro quartil (25%)\n",
    "Q3 = baseline_df['GarageArea'].quantile(0.75)  # Terceiro quartil (75%)\n",
    "IQR = Q3 - Q1  # Diferença entre Q3 e Q1\n",
    "\n",
    "# Define os limites do IQR para detectar outliers\n",
    "lower_bound_iqr = Q1 - 1.5 * IQR  # Limite inferior\n",
    "upper_bound_iqr = Q3 + 1.5 * IQR  # Limite superior\n",
    "\n",
    "train_df_iter4['GarageArea'] = train_df_iter4['GarageArea'].apply(\n",
    "    lambda x: baseline_df.GarageArea.median() if x < lower_bound_iqr or x > upper_bound_iqr else x)\n",
    "test_df_iter4['GarageArea'] = test_df_iter4['GarageArea'].apply(\n",
    "    lambda x: baseline_df.GarageArea.median() if x < lower_bound_iqr or x > upper_bound_iqr else x)"
   ]
  },
  {
   "cell_type": "markdown",
   "metadata": {},
   "source": [
    "bin_uniform = KBinsDiscretizer(strategy='uniform', n_bins=3, encode='ordinal')\n",
    "bin_uniform.fit(train_df_iter4[['GarageArea']])\n",
    "train_df_iter4['GarageAreaUniform'] = bin_uniform.transform(train_df_iter3[['GarageArea']])\n",
    "test_df_iter4['GarageAreaUniform'] = bin_uniform.transform(test_df_iter3[['GarageArea']])\n",
    "train_df_iter4.drop(['GarageArea'], axis=1, inplace=True)\n",
    "test_df_iter4.drop(['GarageArea'], axis=1, inplace=True)\n"
   ]
  },
  {
   "cell_type": "code",
   "execution_count": 3499,
   "metadata": {},
   "outputs": [
    {
     "name": "stdout",
     "output_type": "stream",
     "text": [
      "Baseline score 4: 0.7551867219917012\n"
     ]
    }
   ],
   "source": [
    "baseline_scores['Aproach 4-Outliers Imputation'] = score_approach(train_df_iter4,test_df_iter4, 'SalesPriceTarget')\n",
    "print(f\"Baseline score 4: {baseline_scores['Aproach 4-Outliers Imputation']}\")\n"
   ]
  },
  {
   "cell_type": "markdown",
   "metadata": {},
   "source": [
    "A distribuição apresenta uma assimetria à direita, a maioria das casas tem uma área de garagem relativamente pequena, mas existem algumas casas com garagens significativamente maiores. Existe um valor alto em 0, indicando que há um número de casas que não possuem garagem"
   ]
  },
  {
   "cell_type": "markdown",
   "metadata": {},
   "source": [
    "#### 2.2.6  Score Subset Baseline - Tranformação 5 (Feature Scaling)"
   ]
  },
  {
   "cell_type": "code",
   "execution_count": 3500,
   "metadata": {},
   "outputs": [
    {
     "data": {
      "image/png": "[encoded data removed]",
      "text/plain": [
       "<Figure size 1800x600 with 1 Axes>"
      ]
     },
     "metadata": {},
     "output_type": "display_data"
    }
   ],
   "source": [
    "plot_histogram(baseline_df, 'GarageCars', bins=6, kde=True, line_width=3, title='Garage Cars Distribution of Houses', xlabel='Garage Cars Square Feet', ylabel='# Houses',color='purple')"
   ]
  },
  {
   "cell_type": "code",
   "execution_count": 3501,
   "metadata": {},
   "outputs": [],
   "source": [
    "mmscaler = MinMaxScaler(feature_range=(-1,1))"
   ]
  },
  {
   "cell_type": "code",
   "execution_count": 3502,
   "metadata": {},
   "outputs": [
    {
     "name": "stdout",
     "output_type": "stream",
     "text": [
      "Shape inicial (treino): (978, 12)\n",
      "Shape inicial (teste): (482, 12)\n",
      "Shape final (treino): (978, 14)\n",
      "Shape final (teste): (482, 14)\n"
     ]
    }
   ],
   "source": [
    "# Fazer cópias dos DataFrames originais\n",
    "train_df_iter5 = train_df_iter4.copy()\n",
    "test_df_iter5 = test_df_iter4.copy()\n",
    "\n",
    "# Verificar o shape inicial\n",
    "print(\"Shape inicial (treino):\", train_df_iter5.shape)\n",
    "print(\"Shape inicial (teste):\", test_df_iter5.shape)\n",
    "\n",
    "# Definir as colunas para o scaler\n",
    "input_columns_Scaler = ['GarageArea', 'GarageCars']\n",
    "\n",
    "# Aplicar o MinMaxScaler aos dados de treino e teste\n",
    "train_x_min_max_values = mmscaler.fit_transform(train_df_iter5[input_columns_Scaler])\n",
    "test_x_min_max_values = mmscaler.transform(test_df_iter5[input_columns_Scaler])\n",
    "\n",
    "# Criar novos DataFrames para os valores escalados\n",
    "train_x_min_max_df = pd.DataFrame(train_x_min_max_values, \n",
    "                                  columns=[f\"{col}_Scaled\" for col in input_columns_Scaler])\n",
    "test_x_min_max_df = pd.DataFrame(test_x_min_max_values, \n",
    "                                 columns=[f\"{col}_Scaled\" for col in input_columns_Scaler])\n",
    "\n",
    "# Garantir que os índices estão alinhados\n",
    "train_x_min_max_df.reset_index(drop=True, inplace=True)\n",
    "test_x_min_max_df.reset_index(drop=True, inplace=True)\n",
    "train_df_iter5.reset_index(drop=True, inplace=True)\n",
    "test_df_iter5.reset_index(drop=True, inplace=True)\n",
    "\n",
    "# Concatenar os DataFrames escalados com os originais\n",
    "train_df_iter5 = pd.concat([train_df_iter5, train_x_min_max_df], axis=1)\n",
    "test_df_iter5 = pd.concat([test_df_iter5, test_x_min_max_df], axis=1)\n",
    "\n",
    "# Verificar o shape final\n",
    "print(\"Shape final (treino):\", train_df_iter5.shape)\n",
    "print(\"Shape final (teste):\", test_df_iter5.shape)\n"
   ]
  },
  {
   "cell_type": "code",
   "execution_count": 3503,
   "metadata": {},
   "outputs": [],
   "source": [
    "#train_df_iter5.drop(columns=['GarageArea', 'GarageCars'],axis=1, inplace=True)\n",
    "#test_df_iter5.drop(columns=['GarageArea', 'GarageCars'],axis=1, inplace=True)"
   ]
  },
  {
   "cell_type": "code",
   "execution_count": 3504,
   "metadata": {},
   "outputs": [
    {
     "name": "stdout",
     "output_type": "stream",
     "text": [
      "Baseline score 5: 0.7614107883817427\n"
     ]
    }
   ],
   "source": [
    "baseline_scores['Aproach 5-Feature Scaling'] = score_approach(train_df_iter5,test_df_iter5, 'SalesPriceTarget')\n",
    "print(f\"Baseline score 5: {baseline_scores['Aproach 5-Feature Scaling']}\")"
   ]
  },
  {
   "cell_type": "markdown",
   "metadata": {},
   "source": [
    "#### 2.2.6  Score Subset Baseline - Tranformação 6 (Feature Enginering)"
   ]
  },
  {
   "cell_type": "markdown",
   "metadata": {},
   "source": [
    "O ano de construção é uma medida absoluta que, por si pode não ser tão informativa, mas convertendo o ano em idate (ano atual - ano construção) fornece um contexto temporal mais relevante para o modelo capturar padrões"
   ]
  },
  {
   "cell_type": "code",
   "execution_count": 3505,
   "metadata": {},
   "outputs": [
    {
     "name": "stdout",
     "output_type": "stream",
     "text": [
      "<class 'pandas.core.frame.DataFrame'>\n",
      "Index: 978 entries, 163 to 1274\n",
      "Data columns (total 12 columns):\n",
      " #   Column                 Non-Null Count  Dtype  \n",
      "---  ------                 --------------  -----  \n",
      " 0   YearBuilt              978 non-null    int64  \n",
      " 1   GarageArea             978 non-null    int64  \n",
      " 2   GarageCars             978 non-null    int64  \n",
      " 3   MasVnrType             978 non-null    int8   \n",
      " 4   SaleCondition_Normal   978 non-null    int64  \n",
      " 5   SaleCondition_Abnorml  978 non-null    int64  \n",
      " 6   SaleCondition_Partial  978 non-null    int64  \n",
      " 7   SaleCondition_Family   978 non-null    int64  \n",
      " 8   SaleCondition_Alloca   978 non-null    int64  \n",
      " 9   SaleCondition_AdjLand  978 non-null    int64  \n",
      " 10  SalesPriceTarget       978 non-null    int64  \n",
      " 11  LotFrontage_quantile   978 non-null    float64\n",
      "dtypes: float64(1), int64(10), int8(1)\n",
      "memory usage: 92.6 KB\n"
     ]
    }
   ],
   "source": [
    "train_df_iter3.info()"
   ]
  },
  {
   "cell_type": "code",
   "execution_count": 3506,
   "metadata": {},
   "outputs": [
    {
     "name": "stdout",
     "output_type": "stream",
     "text": [
      "Baseline score 6: 0.7821576763485477\n"
     ]
    }
   ],
   "source": [
    "train_df_iter6 = train_df_iter5.copy()\n",
    "test_df_iter6 = test_df_iter5.copy()\n",
    "\n",
    "\n",
    "current_year = datetime.datetime.now().year\n",
    "train_df_iter6['HouseAge'] = current_year - train_df_iter6['YearBuilt']\n",
    "test_df_iter6['HouseAge'] = current_year - test_df_iter6['YearBuilt']\n",
    "\n",
    "\n",
    "train_df_iter6.drop(columns=['YearBuilt'],axis=1, inplace=True)\n",
    "test_df_iter6.drop(columns=['YearBuilt'],axis=1, inplace=True)\n",
    "\n",
    "baseline_scores['Aproach 6-Feature Enginering'] = score_approach(train_df_iter6,test_df_iter6, 'SalesPriceTarget')\n",
    "print(f\"Baseline score 6: {baseline_scores['Aproach 6-Feature Enginering']}\")"
   ]
  },
  {
   "cell_type": "markdown",
   "metadata": {},
   "source": [
    "### 2.3 Conclusões finais "
   ]
  },
  {
   "cell_type": "code",
   "execution_count": 3507,
   "metadata": {},
   "outputs": [
    {
     "data": {
      "image/png": "[encoded data removed]",
      "text/plain": [
       "<Figure size 1200x600 with 1 Axes>"
      ]
     },
     "metadata": {},
     "output_type": "display_data"
    }
   ],
   "source": [
    "# Criar o gráfico de barras\n",
    "baseline_scores_df = pd.DataFrame(list(baseline_scores.items()), columns=['Approach', 'Score'])\n",
    "\n",
    "plt.figure(figsize=(12, 6))  # Aumentar o tamanho da figura\n",
    "plt.bar(baseline_scores_df['Approach'], baseline_scores_df['Score'], color='purple', alpha=0.7)\n",
    "\n",
    "# Títulos e Rótulos\n",
    "plt.title('Baseline Scores por Abordagem', fontsize=16)\n",
    "plt.xlabel('Abordagem', fontsize=12)\n",
    "plt.ylabel('Score', fontsize=12)\n",
    "\n",
    "# Rotacionar os rótulos do eixo X\n",
    "plt.xticks(rotation=45, ha='right', fontsize=10)\n",
    "\n",
    "# Adicionar os valores acima das barras\n",
    "for index, value in enumerate(baseline_scores_df['Score']):\n",
    "    plt.text(index, value + 0.01, f\"{value:.3f}\", ha='center', fontsize=10, color='black')\n",
    "\n",
    "# Grade no eixo Y\n",
    "plt.grid(axis='y', linestyle='--', alpha=0.7)\n",
    "\n",
    "# Exibir o gráfico\n",
    "plt.tight_layout()  \n",
    "plt.show()"
   ]
  },
  {
   "cell_type": "markdown",
   "metadata": {},
   "source": [
    "Gráfico com a evolução da performance do modelo"
   ]
  }
 ],
 "metadata": {
  "kernelspec": {
   "display_name": "Python 3",
   "language": "python",
   "name": "python3"
  },
  "language_info": {
   "codemirror_mode": {
    "name": "ipython",
    "version": 3
   },
   "file_extension": ".py",
   "mimetype": "text/x-python",
   "name": "python",
   "nbconvert_exporter": "python",
   "pygments_lexer": "ipython3",
   "version": "3.13.0"
  }
 },
 "nbformat": 4,
 "nbformat_minor": 4
}
